{
 "metadata": {
  "kernelspec": {
   "name": "python3",
   "display_name": "Python 3",
   "language": "python"
  },
  "language_info": {
   "name": "python",
   "version": "3.11.11",
   "mimetype": "text/x-python",
   "codemirror_mode": {
    "name": "ipython",
    "version": 3
   },
   "pygments_lexer": "ipython3",
   "nbconvert_exporter": "python",
   "file_extension": ".py"
  },
  "accelerator": "GPU",
  "colab": {
   "gpuType": "T4",
   "provenance": []
  },
  "kaggle": {
   "accelerator": "nvidiaTeslaT4",
   "dataSources": [
    {
     "sourceId": 98084,
     "databundleVersionId": 11711500,
     "sourceType": "competition"
    }
   ],
   "dockerImageVersionId": 31011,
   "isInternetEnabled": true,
   "language": "python",
   "sourceType": "notebook",
   "isGpuEnabled": true
  }
 },
 "nbformat_minor": 5,
 "nbformat": 4,
 "cells": [
  {
   "id": "a02285e6",
   "cell_type": "markdown",
   "source": "# Starter Notebook",
   "metadata": {
    "id": "a02285e6"
   }
  },
  {
   "id": "bdcc5329",
   "cell_type": "markdown",
   "source": "Install and import required libraries",
   "metadata": {
    "id": "bdcc5329"
   }
  },
  {
   "id": "348ceed6-b684-46c3-8a32-9bb640c9a9d7",
   "cell_type": "code",
   "source": "!pip install transformers datasets evaluate accelerate peft trl bitsandbytes\n!pip install nvidia-ml-py3",
   "metadata": {
    "id": "348ceed6-b684-46c3-8a32-9bb640c9a9d7",
    "trusted": true,
    "execution": {
     "iopub.status.busy": "2025-04-13T03:19:24.241501Z",
     "iopub.execute_input": "2025-04-13T03:19:24.241789Z",
     "iopub.status.idle": "2025-04-13T03:19:30.674544Z",
     "shell.execute_reply.started": "2025-04-13T03:19:24.241770Z",
     "shell.execute_reply": "2025-04-13T03:19:30.673692Z"
    },
    "ExecuteTime": {
     "end_time": "2025-04-13T17:08:46.771181Z",
     "start_time": "2025-04-13T17:08:43.923025Z"
    }
   },
   "outputs": [
    {
     "name": "stdout",
     "output_type": "stream",
     "text": [
      "Requirement already satisfied: transformers in f:\\pythonproject\\jupyternotebook\\.venv\\lib\\site-packages (4.50.3)\n",
      "Requirement already satisfied: datasets in f:\\pythonproject\\jupyternotebook\\.venv\\lib\\site-packages (3.5.0)\n",
      "Requirement already satisfied: evaluate in f:\\pythonproject\\jupyternotebook\\.venv\\lib\\site-packages (0.4.3)\n",
      "Requirement already satisfied: accelerate in f:\\pythonproject\\jupyternotebook\\.venv\\lib\\site-packages (1.6.0)\n",
      "Requirement already satisfied: peft in f:\\pythonproject\\jupyternotebook\\.venv\\lib\\site-packages (0.15.1)\n",
      "Requirement already satisfied: trl in f:\\pythonproject\\jupyternotebook\\.venv\\lib\\site-packages (0.16.1)\n",
      "Requirement already satisfied: bitsandbytes in f:\\pythonproject\\jupyternotebook\\.venv\\lib\\site-packages (0.45.5)\n",
      "Requirement already satisfied: filelock in f:\\pythonproject\\jupyternotebook\\.venv\\lib\\site-packages (from transformers) (3.17.0)\n",
      "Requirement already satisfied: huggingface-hub<1.0,>=0.26.0 in f:\\pythonproject\\jupyternotebook\\.venv\\lib\\site-packages (from transformers) (0.30.1)\n",
      "Requirement already satisfied: numpy>=1.17 in f:\\pythonproject\\jupyternotebook\\.venv\\lib\\site-packages (from transformers) (2.0.2)\n",
      "Requirement already satisfied: packaging>=20.0 in f:\\pythonproject\\jupyternotebook\\.venv\\lib\\site-packages (from transformers) (24.2)\n",
      "Requirement already satisfied: pyyaml>=5.1 in f:\\pythonproject\\jupyternotebook\\.venv\\lib\\site-packages (from transformers) (6.0.2)\n",
      "Requirement already satisfied: regex!=2019.12.17 in f:\\pythonproject\\jupyternotebook\\.venv\\lib\\site-packages (from transformers) (2024.11.6)\n",
      "Requirement already satisfied: requests in f:\\pythonproject\\jupyternotebook\\.venv\\lib\\site-packages (from transformers) (2.32.3)\n",
      "Requirement already satisfied: tokenizers<0.22,>=0.21 in f:\\pythonproject\\jupyternotebook\\.venv\\lib\\site-packages (from transformers) (0.21.1)\n",
      "Requirement already satisfied: safetensors>=0.4.3 in f:\\pythonproject\\jupyternotebook\\.venv\\lib\\site-packages (from transformers) (0.5.3)\n",
      "Requirement already satisfied: tqdm>=4.27 in f:\\pythonproject\\jupyternotebook\\.venv\\lib\\site-packages (from transformers) (4.67.1)\n",
      "Requirement already satisfied: pyarrow>=15.0.0 in f:\\pythonproject\\jupyternotebook\\.venv\\lib\\site-packages (from datasets) (19.0.1)\n",
      "Requirement already satisfied: dill<0.3.9,>=0.3.0 in f:\\pythonproject\\jupyternotebook\\.venv\\lib\\site-packages (from datasets) (0.3.8)\n",
      "Requirement already satisfied: pandas in f:\\pythonproject\\jupyternotebook\\.venv\\lib\\site-packages (from datasets) (2.2.3)\n",
      "Requirement already satisfied: xxhash in f:\\pythonproject\\jupyternotebook\\.venv\\lib\\site-packages (from datasets) (3.5.0)\n",
      "Requirement already satisfied: multiprocess<0.70.17 in f:\\pythonproject\\jupyternotebook\\.venv\\lib\\site-packages (from datasets) (0.70.16)\n",
      "Requirement already satisfied: fsspec<=2024.12.0,>=2023.1.0 in f:\\pythonproject\\jupyternotebook\\.venv\\lib\\site-packages (from fsspec[http]<=2024.12.0,>=2023.1.0->datasets) (2024.12.0)\n",
      "Requirement already satisfied: aiohttp in f:\\pythonproject\\jupyternotebook\\.venv\\lib\\site-packages (from datasets) (3.11.16)\n",
      "Requirement already satisfied: psutil in f:\\pythonproject\\jupyternotebook\\.venv\\lib\\site-packages (from accelerate) (7.0.0)\n",
      "Requirement already satisfied: torch>=2.0.0 in f:\\pythonproject\\jupyternotebook\\.venv\\lib\\site-packages (from accelerate) (2.6.0+cu124)\n",
      "Requirement already satisfied: rich in f:\\pythonproject\\jupyternotebook\\.venv\\lib\\site-packages (from trl) (13.9.4)\n",
      "Requirement already satisfied: aiohappyeyeballs>=2.3.0 in f:\\pythonproject\\jupyternotebook\\.venv\\lib\\site-packages (from aiohttp->datasets) (2.6.1)\n",
      "Requirement already satisfied: aiosignal>=1.1.2 in f:\\pythonproject\\jupyternotebook\\.venv\\lib\\site-packages (from aiohttp->datasets) (1.3.2)\n",
      "Requirement already satisfied: attrs>=17.3.0 in f:\\pythonproject\\jupyternotebook\\.venv\\lib\\site-packages (from aiohttp->datasets) (25.1.0)\n",
      "Requirement already satisfied: frozenlist>=1.1.1 in f:\\pythonproject\\jupyternotebook\\.venv\\lib\\site-packages (from aiohttp->datasets) (1.5.0)\n",
      "Requirement already satisfied: multidict<7.0,>=4.5 in f:\\pythonproject\\jupyternotebook\\.venv\\lib\\site-packages (from aiohttp->datasets) (6.4.3)\n",
      "Requirement already satisfied: propcache>=0.2.0 in f:\\pythonproject\\jupyternotebook\\.venv\\lib\\site-packages (from aiohttp->datasets) (0.3.1)\n",
      "Requirement already satisfied: yarl<2.0,>=1.17.0 in f:\\pythonproject\\jupyternotebook\\.venv\\lib\\site-packages (from aiohttp->datasets) (1.19.0)\n",
      "Requirement already satisfied: typing-extensions>=3.7.4.3 in f:\\pythonproject\\jupyternotebook\\.venv\\lib\\site-packages (from huggingface-hub<1.0,>=0.26.0->transformers) (4.12.2)\n",
      "Requirement already satisfied: charset-normalizer<4,>=2 in f:\\pythonproject\\jupyternotebook\\.venv\\lib\\site-packages (from requests->transformers) (3.4.1)\n",
      "Requirement already satisfied: idna<4,>=2.5 in f:\\pythonproject\\jupyternotebook\\.venv\\lib\\site-packages (from requests->transformers) (3.10)\n",
      "Requirement already satisfied: urllib3<3,>=1.21.1 in f:\\pythonproject\\jupyternotebook\\.venv\\lib\\site-packages (from requests->transformers) (2.3.0)\n",
      "Requirement already satisfied: certifi>=2017.4.17 in f:\\pythonproject\\jupyternotebook\\.venv\\lib\\site-packages (from requests->transformers) (2025.1.31)\n",
      "Requirement already satisfied: networkx in f:\\pythonproject\\jupyternotebook\\.venv\\lib\\site-packages (from torch>=2.0.0->accelerate) (3.4.2)\n",
      "Requirement already satisfied: jinja2 in f:\\pythonproject\\jupyternotebook\\.venv\\lib\\site-packages (from torch>=2.0.0->accelerate) (3.1.5)\n",
      "Requirement already satisfied: setuptools in f:\\pythonproject\\jupyternotebook\\.venv\\lib\\site-packages (from torch>=2.0.0->accelerate) (75.8.0)\n",
      "Requirement already satisfied: sympy==1.13.1 in f:\\pythonproject\\jupyternotebook\\.venv\\lib\\site-packages (from torch>=2.0.0->accelerate) (1.13.1)\n",
      "Requirement already satisfied: mpmath<1.4,>=1.1.0 in f:\\pythonproject\\jupyternotebook\\.venv\\lib\\site-packages (from sympy==1.13.1->torch>=2.0.0->accelerate) (1.3.0)\n",
      "Requirement already satisfied: colorama in f:\\pythonproject\\jupyternotebook\\.venv\\lib\\site-packages (from tqdm>=4.27->transformers) (0.4.6)\n",
      "Requirement already satisfied: python-dateutil>=2.8.2 in f:\\pythonproject\\jupyternotebook\\.venv\\lib\\site-packages (from pandas->datasets) (2.9.0.post0)\n",
      "Requirement already satisfied: pytz>=2020.1 in f:\\pythonproject\\jupyternotebook\\.venv\\lib\\site-packages (from pandas->datasets) (2025.1)\n",
      "Requirement already satisfied: tzdata>=2022.7 in f:\\pythonproject\\jupyternotebook\\.venv\\lib\\site-packages (from pandas->datasets) (2025.1)\n",
      "Requirement already satisfied: markdown-it-py>=2.2.0 in f:\\pythonproject\\jupyternotebook\\.venv\\lib\\site-packages (from rich->trl) (3.0.0)\n",
      "Requirement already satisfied: pygments<3.0.0,>=2.13.0 in f:\\pythonproject\\jupyternotebook\\.venv\\lib\\site-packages (from rich->trl) (2.19.1)\n",
      "Requirement already satisfied: mdurl~=0.1 in f:\\pythonproject\\jupyternotebook\\.venv\\lib\\site-packages (from markdown-it-py>=2.2.0->rich->trl) (0.1.2)\n",
      "Requirement already satisfied: six>=1.5 in f:\\pythonproject\\jupyternotebook\\.venv\\lib\\site-packages (from python-dateutil>=2.8.2->pandas->datasets) (1.17.0)\n",
      "Requirement already satisfied: MarkupSafe>=2.0 in f:\\pythonproject\\jupyternotebook\\.venv\\lib\\site-packages (from jinja2->torch>=2.0.0->accelerate) (3.0.2)\n",
      "Requirement already satisfied: nvidia-ml-py3 in f:\\pythonproject\\jupyternotebook\\.venv\\lib\\site-packages (7.352.0)\n"
     ]
    }
   ],
   "execution_count": 21
  },
  {
   "id": "cca64f38-d8d2-4313-8295-fbbd43c2a263",
   "cell_type": "code",
   "source": "import os\nimport pandas as pd\nimport torch\nfrom transformers import RobertaModel, RobertaTokenizer, TrainingArguments, Trainer, DataCollatorWithPadding, RobertaForSequenceClassification\nfrom peft import LoraConfig, get_peft_model, PeftModel\nfrom datasets import load_dataset, Dataset, ClassLabel\nimport pickle",
   "metadata": {
    "id": "cca64f38-d8d2-4313-8295-fbbd43c2a263",
    "trusted": true,
    "execution": {
     "iopub.status.busy": "2025-04-13T03:19:35.314630Z",
     "iopub.execute_input": "2025-04-13T03:19:35.314923Z",
     "iopub.status.idle": "2025-04-13T03:19:35.319282Z",
     "shell.execute_reply.started": "2025-04-13T03:19:35.314901Z",
     "shell.execute_reply": "2025-04-13T03:19:35.318502Z"
    },
    "ExecuteTime": {
     "end_time": "2025-04-13T17:08:46.783987Z",
     "start_time": "2025-04-13T17:08:46.780545Z"
    }
   },
   "outputs": [],
   "execution_count": 22
  },
  {
   "id": "59d6e377",
   "cell_type": "markdown",
   "source": "## Load Tokenizer and Preprocess Data",
   "metadata": {
    "id": "59d6e377"
   }
  },
  {
   "id": "21f42747-f551-40a5-a95f-7affb1eba4a3",
   "cell_type": "code",
   "source": "base_model = 'roberta-base'\n\ndataset = load_dataset('ag_news', split='train')\ntokenizer = RobertaTokenizer.from_pretrained(base_model)\n\ndef preprocess(examples):\n    tokenized = tokenizer(examples['text'], truncation=True, padding=True)\n    return tokenized\n\ntokenized_dataset = dataset.map(preprocess, batched=True,  remove_columns=[\"text\"])\ntokenized_dataset = tokenized_dataset.rename_column(\"label\", \"labels\")",
   "metadata": {
    "id": "21f42747-f551-40a5-a95f-7affb1eba4a3",
    "trusted": true,
    "execution": {
     "iopub.status.busy": "2025-04-13T03:19:37.096598Z",
     "iopub.execute_input": "2025-04-13T03:19:37.097400Z",
     "iopub.status.idle": "2025-04-13T03:19:39.264755Z",
     "shell.execute_reply.started": "2025-04-13T03:19:37.097366Z",
     "shell.execute_reply": "2025-04-13T03:19:39.264003Z"
    },
    "ExecuteTime": {
     "end_time": "2025-04-13T17:08:48.782362Z",
     "start_time": "2025-04-13T17:08:46.793370Z"
    }
   },
   "outputs": [],
   "execution_count": 23
  },
  {
   "id": "9e07f641-bec0-43a6-8c26-510d7642916a",
   "cell_type": "code",
   "source": "# Extract the number of classess and their names\nnum_labels = dataset.features['label'].num_classes\nclass_names = dataset.features[\"label\"].names\nprint(f\"number of labels: {num_labels}\")\nprint(f\"the labels: {class_names}\")\n\n# Create an id2label mapping\n# We will need this for our classifier.\nid2label = {i: label for i, label in enumerate(class_names)}\n\ndata_collator = DataCollatorWithPadding(tokenizer=tokenizer, return_tensors=\"pt\")\n",
   "metadata": {
    "id": "9e07f641-bec0-43a6-8c26-510d7642916a",
    "trusted": true,
    "execution": {
     "iopub.status.busy": "2025-04-13T03:19:41.301081Z",
     "iopub.execute_input": "2025-04-13T03:19:41.301721Z",
     "iopub.status.idle": "2025-04-13T03:19:41.306784Z",
     "shell.execute_reply.started": "2025-04-13T03:19:41.301696Z",
     "shell.execute_reply": "2025-04-13T03:19:41.306230Z"
    },
    "ExecuteTime": {
     "end_time": "2025-04-13T17:08:48.794714Z",
     "start_time": "2025-04-13T17:08:48.791715Z"
    }
   },
   "outputs": [
    {
     "name": "stdout",
     "output_type": "stream",
     "text": [
      "number of labels: 4\n",
      "the labels: ['World', 'Sports', 'Business', 'Sci/Tech']\n"
     ]
    }
   ],
   "execution_count": 24
  },
  {
   "id": "c9e24afd",
   "cell_type": "markdown",
   "source": "## Load Pre-trained Model\nSet up config for pretrained model and download it from hugging face",
   "metadata": {
    "id": "c9e24afd"
   }
  },
  {
   "id": "262a8416-a59c-4ea1-95d9-0b1f81d6094c",
   "cell_type": "code",
   "source": "model = RobertaForSequenceClassification.from_pretrained(\n    base_model,\n    id2label=id2label)\nmodel",
   "metadata": {
    "id": "262a8416-a59c-4ea1-95d9-0b1f81d6094c",
    "trusted": true,
    "execution": {
     "iopub.status.busy": "2025-04-13T03:19:43.279763Z",
     "iopub.execute_input": "2025-04-13T03:19:43.280050Z",
     "iopub.status.idle": "2025-04-13T03:19:43.484453Z",
     "shell.execute_reply.started": "2025-04-13T03:19:43.280028Z",
     "shell.execute_reply": "2025-04-13T03:19:43.483530Z"
    },
    "ExecuteTime": {
     "end_time": "2025-04-13T17:08:49.270951Z",
     "start_time": "2025-04-13T17:08:48.815965Z"
    }
   },
   "outputs": [
    {
     "name": "stderr",
     "output_type": "stream",
     "text": [
      "Some weights of RobertaForSequenceClassification were not initialized from the model checkpoint at roberta-base and are newly initialized: ['classifier.dense.bias', 'classifier.dense.weight', 'classifier.out_proj.bias', 'classifier.out_proj.weight']\n",
      "You should probably TRAIN this model on a down-stream task to be able to use it for predictions and inference.\n"
     ]
    },
    {
     "data": {
      "text/plain": [
       "RobertaForSequenceClassification(\n",
       "  (roberta): RobertaModel(\n",
       "    (embeddings): RobertaEmbeddings(\n",
       "      (word_embeddings): Embedding(50265, 768, padding_idx=1)\n",
       "      (position_embeddings): Embedding(514, 768, padding_idx=1)\n",
       "      (token_type_embeddings): Embedding(1, 768)\n",
       "      (LayerNorm): LayerNorm((768,), eps=1e-05, elementwise_affine=True)\n",
       "      (dropout): Dropout(p=0.1, inplace=False)\n",
       "    )\n",
       "    (encoder): RobertaEncoder(\n",
       "      (layer): ModuleList(\n",
       "        (0-11): 12 x RobertaLayer(\n",
       "          (attention): RobertaAttention(\n",
       "            (self): RobertaSdpaSelfAttention(\n",
       "              (query): Linear(in_features=768, out_features=768, bias=True)\n",
       "              (key): Linear(in_features=768, out_features=768, bias=True)\n",
       "              (value): Linear(in_features=768, out_features=768, bias=True)\n",
       "              (dropout): Dropout(p=0.1, inplace=False)\n",
       "            )\n",
       "            (output): RobertaSelfOutput(\n",
       "              (dense): Linear(in_features=768, out_features=768, bias=True)\n",
       "              (LayerNorm): LayerNorm((768,), eps=1e-05, elementwise_affine=True)\n",
       "              (dropout): Dropout(p=0.1, inplace=False)\n",
       "            )\n",
       "          )\n",
       "          (intermediate): RobertaIntermediate(\n",
       "            (dense): Linear(in_features=768, out_features=3072, bias=True)\n",
       "            (intermediate_act_fn): GELUActivation()\n",
       "          )\n",
       "          (output): RobertaOutput(\n",
       "            (dense): Linear(in_features=3072, out_features=768, bias=True)\n",
       "            (LayerNorm): LayerNorm((768,), eps=1e-05, elementwise_affine=True)\n",
       "            (dropout): Dropout(p=0.1, inplace=False)\n",
       "          )\n",
       "        )\n",
       "      )\n",
       "    )\n",
       "  )\n",
       "  (classifier): RobertaClassificationHead(\n",
       "    (dense): Linear(in_features=768, out_features=768, bias=True)\n",
       "    (dropout): Dropout(p=0.1, inplace=False)\n",
       "    (out_proj): Linear(in_features=768, out_features=4, bias=True)\n",
       "  )\n",
       ")"
      ]
     },
     "execution_count": 25,
     "metadata": {},
     "output_type": "execute_result"
    }
   ],
   "execution_count": 25
  },
  {
   "id": "f265839d-a088-4693-8474-862641de11ed",
   "cell_type": "markdown",
   "source": "## Anything from here on can be modified",
   "metadata": {
    "id": "f265839d-a088-4693-8474-862641de11ed"
   }
  },
  {
   "id": "e7413430-be57-482b-856e-36bd4ba799df",
   "cell_type": "code",
   "source": [
    "#add dropout modification\n",
    "model = RobertaForSequenceClassification.from_pretrained(base_model, id2label=id2label)\n",
    "model.config.attention_probs_dropout_prob = 0.1\n",
    "model.config.hidden_dropout_prob = 0.1\n",
    "\n",
    "# Split the original training set\n",
    "split_datasets = tokenized_dataset.train_test_split(test_size=1280, seed=42)\n",
    "train_val_dataset = split_datasets['train']\n",
    "eval_dataset = split_datasets['test']\n",
    "\n",
    "val_split = train_val_dataset.train_test_split(test_size=0.1, seed=42)\n",
    "train_dataset = val_split['train']\n",
    "validation_dataset = val_split['test']\n",
    "\n",
    "\n",
    "print(f\"number of train set: {len(train_dataset)}\")\n",
    "print(f\"number of validation set: {len(validation_dataset)}\")\n",
    "print(f\"number of test set: {len(eval_dataset)}\")"
   ],
   "metadata": {
    "id": "e7413430-be57-482b-856e-36bd4ba799df",
    "trusted": true,
    "execution": {
     "iopub.status.busy": "2025-04-13T03:19:45.594076Z",
     "iopub.execute_input": "2025-04-13T03:19:45.594386Z",
     "iopub.status.idle": "2025-04-13T03:19:45.612349Z",
     "shell.execute_reply.started": "2025-04-13T03:19:45.594362Z",
     "shell.execute_reply": "2025-04-13T03:19:45.611645Z"
    },
    "ExecuteTime": {
     "end_time": "2025-04-13T17:08:49.410692Z",
     "start_time": "2025-04-13T17:08:49.284786Z"
    }
   },
   "outputs": [
    {
     "name": "stderr",
     "output_type": "stream",
     "text": [
      "Some weights of RobertaForSequenceClassification were not initialized from the model checkpoint at roberta-base and are newly initialized: ['classifier.dense.bias', 'classifier.dense.weight', 'classifier.out_proj.bias', 'classifier.out_proj.weight']\n",
      "You should probably TRAIN this model on a down-stream task to be able to use it for predictions and inference.\n"
     ]
    },
    {
     "name": "stdout",
     "output_type": "stream",
     "text": [
      "number of train set: 106848\n",
      "number of validation set: 11872\n",
      "number of test set: 1280\n"
     ]
    }
   ],
   "execution_count": 26
  },
  {
   "id": "4c89317e-6cae-49bd-a52e-7b6f6abc9325",
   "cell_type": "code",
   "source": [
    "# PEFT Config\n",
    "peft_config = LoraConfig(\n",
    "    r=4,\n",
    "    lora_alpha=16,\n",
    "    lora_dropout=0.05,\n",
    "    bias = 'none',\n",
    "    target_modules = ['query','value','key','out'],\n",
    "    task_type=\"SEQ_CLS\",\n",
    ")\n",
    "\n",
    "peft_model = get_peft_model(model, peft_config)\n",
    "peft_model"
   ],
   "metadata": {
    "trusted": true,
    "execution": {
     "iopub.status.busy": "2025-04-13T03:19:47.375992Z",
     "iopub.execute_input": "2025-04-13T03:19:47.376614Z",
     "iopub.status.idle": "2025-04-13T03:19:47.415168Z",
     "shell.execute_reply.started": "2025-04-13T03:19:47.376589Z",
     "shell.execute_reply": "2025-04-13T03:19:47.414574Z"
    },
    "ExecuteTime": {
     "end_time": "2025-04-13T17:08:49.449829Z",
     "start_time": "2025-04-13T17:08:49.424786Z"
    }
   },
   "outputs": [
    {
     "data": {
      "text/plain": [
       "PeftModelForSequenceClassification(\n",
       "  (base_model): LoraModel(\n",
       "    (model): RobertaForSequenceClassification(\n",
       "      (roberta): RobertaModel(\n",
       "        (embeddings): RobertaEmbeddings(\n",
       "          (word_embeddings): Embedding(50265, 768, padding_idx=1)\n",
       "          (position_embeddings): Embedding(514, 768, padding_idx=1)\n",
       "          (token_type_embeddings): Embedding(1, 768)\n",
       "          (LayerNorm): LayerNorm((768,), eps=1e-05, elementwise_affine=True)\n",
       "          (dropout): Dropout(p=0.1, inplace=False)\n",
       "        )\n",
       "        (encoder): RobertaEncoder(\n",
       "          (layer): ModuleList(\n",
       "            (0-11): 12 x RobertaLayer(\n",
       "              (attention): RobertaAttention(\n",
       "                (self): RobertaSdpaSelfAttention(\n",
       "                  (query): lora.Linear(\n",
       "                    (base_layer): Linear(in_features=768, out_features=768, bias=True)\n",
       "                    (lora_dropout): ModuleDict(\n",
       "                      (default): Dropout(p=0.05, inplace=False)\n",
       "                    )\n",
       "                    (lora_A): ModuleDict(\n",
       "                      (default): Linear(in_features=768, out_features=4, bias=False)\n",
       "                    )\n",
       "                    (lora_B): ModuleDict(\n",
       "                      (default): Linear(in_features=4, out_features=768, bias=False)\n",
       "                    )\n",
       "                    (lora_embedding_A): ParameterDict()\n",
       "                    (lora_embedding_B): ParameterDict()\n",
       "                    (lora_magnitude_vector): ModuleDict()\n",
       "                  )\n",
       "                  (key): lora.Linear(\n",
       "                    (base_layer): Linear(in_features=768, out_features=768, bias=True)\n",
       "                    (lora_dropout): ModuleDict(\n",
       "                      (default): Dropout(p=0.05, inplace=False)\n",
       "                    )\n",
       "                    (lora_A): ModuleDict(\n",
       "                      (default): Linear(in_features=768, out_features=4, bias=False)\n",
       "                    )\n",
       "                    (lora_B): ModuleDict(\n",
       "                      (default): Linear(in_features=4, out_features=768, bias=False)\n",
       "                    )\n",
       "                    (lora_embedding_A): ParameterDict()\n",
       "                    (lora_embedding_B): ParameterDict()\n",
       "                    (lora_magnitude_vector): ModuleDict()\n",
       "                  )\n",
       "                  (value): lora.Linear(\n",
       "                    (base_layer): Linear(in_features=768, out_features=768, bias=True)\n",
       "                    (lora_dropout): ModuleDict(\n",
       "                      (default): Dropout(p=0.05, inplace=False)\n",
       "                    )\n",
       "                    (lora_A): ModuleDict(\n",
       "                      (default): Linear(in_features=768, out_features=4, bias=False)\n",
       "                    )\n",
       "                    (lora_B): ModuleDict(\n",
       "                      (default): Linear(in_features=4, out_features=768, bias=False)\n",
       "                    )\n",
       "                    (lora_embedding_A): ParameterDict()\n",
       "                    (lora_embedding_B): ParameterDict()\n",
       "                    (lora_magnitude_vector): ModuleDict()\n",
       "                  )\n",
       "                  (dropout): Dropout(p=0.1, inplace=False)\n",
       "                )\n",
       "                (output): RobertaSelfOutput(\n",
       "                  (dense): Linear(in_features=768, out_features=768, bias=True)\n",
       "                  (LayerNorm): LayerNorm((768,), eps=1e-05, elementwise_affine=True)\n",
       "                  (dropout): Dropout(p=0.1, inplace=False)\n",
       "                )\n",
       "              )\n",
       "              (intermediate): RobertaIntermediate(\n",
       "                (dense): Linear(in_features=768, out_features=3072, bias=True)\n",
       "                (intermediate_act_fn): GELUActivation()\n",
       "              )\n",
       "              (output): RobertaOutput(\n",
       "                (dense): Linear(in_features=3072, out_features=768, bias=True)\n",
       "                (LayerNorm): LayerNorm((768,), eps=1e-05, elementwise_affine=True)\n",
       "                (dropout): Dropout(p=0.1, inplace=False)\n",
       "              )\n",
       "            )\n",
       "          )\n",
       "        )\n",
       "      )\n",
       "      (classifier): ModulesToSaveWrapper(\n",
       "        (original_module): RobertaClassificationHead(\n",
       "          (dense): Linear(in_features=768, out_features=768, bias=True)\n",
       "          (dropout): Dropout(p=0.1, inplace=False)\n",
       "          (out_proj): Linear(in_features=768, out_features=4, bias=True)\n",
       "        )\n",
       "        (modules_to_save): ModuleDict(\n",
       "          (default): RobertaClassificationHead(\n",
       "            (dense): Linear(in_features=768, out_features=768, bias=True)\n",
       "            (dropout): Dropout(p=0.1, inplace=False)\n",
       "            (out_proj): Linear(in_features=768, out_features=4, bias=True)\n",
       "          )\n",
       "        )\n",
       "      )\n",
       "    )\n",
       "  )\n",
       ")"
      ]
     },
     "execution_count": 27,
     "metadata": {},
     "output_type": "execute_result"
    }
   ],
   "execution_count": 27
  },
  {
   "id": "7de8ce9e-3a1f-439e-b608-07916ab5a5ff",
   "cell_type": "code",
   "source": [
    "#show LoRA trainable parameters\n",
    "num_trainable_params = sum(p.numel() for p in peft_model.parameters() if p.requires_grad)\n",
    "print(\"LoRA model parameter:\", num_trainable_params)\n",
    "assert num_trainable_params <= 1e6, f\"warning: parameter exceeds 1e6. Now we have {num_trainable_params}\""
   ],
   "metadata": {
    "trusted": true,
    "execution": {
     "iopub.status.busy": "2025-04-13T03:19:49.847431Z",
     "iopub.execute_input": "2025-04-13T03:19:49.848037Z",
     "iopub.status.idle": "2025-04-13T03:19:49.854156Z",
     "shell.execute_reply.started": "2025-04-13T03:19:49.848011Z",
     "shell.execute_reply": "2025-04-13T03:19:49.853248Z"
    },
    "ExecuteTime": {
     "end_time": "2025-04-13T17:08:49.477350Z",
     "start_time": "2025-04-13T17:08:49.473708Z"
    }
   },
   "outputs": [
    {
     "name": "stdout",
     "output_type": "stream",
     "text": [
      "LoRA model parameter: 814852\n"
     ]
    }
   ],
   "execution_count": 28
  },
  {
   "id": "652452e3",
   "cell_type": "markdown",
   "source": "## Setup LoRA Config\nSetup PEFT config and get peft model for finetuning",
   "metadata": {
    "id": "652452e3"
   }
  },
  {
   "id": "677d681f-34d0-4dd3-bdc4-f5e1fade2b18",
   "cell_type": "code",
   "source": [
    "#show LoRA trainable parameters percentage\n",
    "print('PEFT Model')\n",
    "peft_model.print_trainable_parameters()"
   ],
   "metadata": {
    "trusted": true,
    "execution": {
     "iopub.status.busy": "2025-04-13T03:19:51.846377Z",
     "iopub.execute_input": "2025-04-13T03:19:51.846649Z",
     "iopub.status.idle": "2025-04-13T03:19:51.852054Z",
     "shell.execute_reply.started": "2025-04-13T03:19:51.846631Z",
     "shell.execute_reply": "2025-04-13T03:19:51.851104Z"
    },
    "ExecuteTime": {
     "end_time": "2025-04-13T17:08:49.499066Z",
     "start_time": "2025-04-13T17:08:49.495902Z"
    }
   },
   "outputs": [
    {
     "name": "stdout",
     "output_type": "stream",
     "text": [
      "PEFT Model\n",
      "trainable params: 814,852 || all params: 125,463,560 || trainable%: 0.6495\n"
     ]
    }
   ],
   "execution_count": 29
  },
  {
   "id": "12284b58",
   "cell_type": "markdown",
   "source": "## Training Setup",
   "metadata": {
    "id": "12284b58"
   }
  },
  {
   "metadata": {
    "ExecuteTime": {
     "end_time": "2025-04-13T17:08:50.859271Z",
     "start_time": "2025-04-13T17:08:49.527614Z"
    }
   },
   "cell_type": "code",
   "source": "!pip install scikit-learn",
   "id": "c90864a11fc5602",
   "outputs": [
    {
     "name": "stdout",
     "output_type": "stream",
     "text": [
      "Requirement already satisfied: scikit-learn in f:\\pythonproject\\jupyternotebook\\.venv\\lib\\site-packages (1.6.1)\n",
      "Requirement already satisfied: numpy>=1.19.5 in f:\\pythonproject\\jupyternotebook\\.venv\\lib\\site-packages (from scikit-learn) (2.0.2)\n",
      "Requirement already satisfied: scipy>=1.6.0 in f:\\pythonproject\\jupyternotebook\\.venv\\lib\\site-packages (from scikit-learn) (1.15.2)\n",
      "Requirement already satisfied: joblib>=1.2.0 in f:\\pythonproject\\jupyternotebook\\.venv\\lib\\site-packages (from scikit-learn) (1.4.2)\n",
      "Requirement already satisfied: threadpoolctl>=3.1.0 in f:\\pythonproject\\jupyternotebook\\.venv\\lib\\site-packages (from scikit-learn) (3.6.0)\n"
     ]
    }
   ],
   "execution_count": 30
  },
  {
   "id": "064bc827-612f-4939-bc1b-478d223ee9e8",
   "cell_type": "code",
   "source": "# To track evaluation accuracy during training\nfrom sklearn.metrics import accuracy_score\n\ndef compute_metrics(pred):\n    labels = pred.label_ids\n    preds = pred.predictions.argmax(-1)\n    # Calculate accuracy\n    accuracy = accuracy_score(labels, preds)\n    return {\n        'accuracy': accuracy\n    }",
   "metadata": {
    "trusted": true,
    "execution": {
     "iopub.status.busy": "2025-04-13T03:19:53.460971Z",
     "iopub.execute_input": "2025-04-13T03:19:53.461653Z",
     "iopub.status.idle": "2025-04-13T03:19:53.465813Z",
     "shell.execute_reply.started": "2025-04-13T03:19:53.461631Z",
     "shell.execute_reply": "2025-04-13T03:19:53.464962Z"
    },
    "ExecuteTime": {
     "end_time": "2025-04-13T17:08:50.878734Z",
     "start_time": "2025-04-13T17:08:50.875736Z"
    }
   },
   "outputs": [],
   "execution_count": 31
  },
  {
   "id": "5f364117790cee39",
   "cell_type": "code",
   "source": "#Give dynamic progress of Trainer\nfrom transformers import TrainerCallback\n\nclass EpochProgressCallback(TrainerCallback):\n    def on_epoch_begin(self, args, state, control, **kwargs):\n        print(f\"\\n==> start No. {state.epoch + 1:.0f}  Epoch ...\")\n    def on_epoch_end(self, args, state, control, **kwargs):\n        print(f\"==> Complete No. {state.epoch:.0f} Epoch.\\n\")",
   "metadata": {
    "trusted": true,
    "execution": {
     "iopub.status.busy": "2025-04-13T03:19:55.942012Z",
     "iopub.execute_input": "2025-04-13T03:19:55.942276Z",
     "iopub.status.idle": "2025-04-13T03:19:55.946797Z",
     "shell.execute_reply.started": "2025-04-13T03:19:55.942257Z",
     "shell.execute_reply": "2025-04-13T03:19:55.946027Z"
    },
    "ExecuteTime": {
     "end_time": "2025-04-13T17:08:50.885727Z",
     "start_time": "2025-04-13T17:08:50.882654Z"
    }
   },
   "outputs": [],
   "execution_count": 32
  },
  {
   "id": "812153687b1994d9",
   "cell_type": "code",
   "source": "from transformers import TrainerCallback\n\nclass StepEvaluationCallback(TrainerCallback):\n    def on_evaluate(self, args, state, control, metrics, **kwargs):\n        # check accuracy at each evaluation.\n        if metrics is not None and \"eval_accuracy\" in metrics:\n            print(f\"\\n[Step {state.global_step}] Eval Accuracy: {metrics['eval_accuracy']:.4f}\")",
   "metadata": {
    "trusted": true,
    "execution": {
     "iopub.status.busy": "2025-04-13T03:19:57.409592Z",
     "iopub.execute_input": "2025-04-13T03:19:57.409870Z",
     "iopub.status.idle": "2025-04-13T03:19:57.414050Z",
     "shell.execute_reply.started": "2025-04-13T03:19:57.409848Z",
     "shell.execute_reply": "2025-04-13T03:19:57.413404Z"
    },
    "ExecuteTime": {
     "end_time": "2025-04-13T17:08:50.897346Z",
     "start_time": "2025-04-13T17:08:50.894369Z"
    }
   },
   "outputs": [],
   "execution_count": 33
  },
  {
   "id": "9b848278",
   "cell_type": "markdown",
   "source": "### Start Training",
   "metadata": {
    "id": "9b848278"
   }
  },
  {
   "id": "768b4917-65de-4e55-ae7f-698e287535d4",
   "cell_type": "code",
   "source": [
    "# Setup Training args\n",
    "#.csv file output position\n",
    "output_dir = \"output\"\n",
    "training_args = TrainingArguments(\n",
    "    output_dir=output_dir,\n",
    "    report_to=None,\n",
    "    eval_strategy='steps',\n",
    "    eval_steps=400, #Each 2400 steps we evaluate once.\n",
    "    save_strategy='steps',\n",
    "    save_steps=400, #Each 2400 steps we save once.\n",
    "    load_best_model_at_end=True,\n",
    "    metric_for_best_model='accuracy',\n",
    "    logging_steps=50,\n",
    "    learning_rate=1e-5,\n",
    "    num_train_epochs=5,\n",
    "    # max_steps=1200,\n",
    "    use_cpu=False,\n",
    "    dataloader_num_workers=4,\n",
    "    per_device_train_batch_size=16,\n",
    "    per_device_eval_batch_size=64,\n",
    "    optim=\"adamw_torch\",\n",
    "    weight_decay=0.01,\n",
    "    max_grad_norm=1.0\n",
    ")\n",
    "\n",
    "def get_trainer(model):\n",
    "      return  Trainer(\n",
    "          model=model,\n",
    "          args=training_args,\n",
    "          compute_metrics=compute_metrics,\n",
    "          train_dataset=train_dataset,\n",
    "          eval_dataset=validation_dataset,\n",
    "          data_collator=data_collator,\n",
    "          callbacks=[EpochProgressCallback(), StepEvaluationCallback()]\n",
    "      )"
   ],
   "metadata": {
    "id": "768b4917-65de-4e55-ae7f-698e287535d4",
    "trusted": true,
    "execution": {
     "iopub.status.busy": "2025-04-13T03:19:59.102992Z",
     "iopub.execute_input": "2025-04-13T03:19:59.103589Z",
     "iopub.status.idle": "2025-04-13T03:19:59.138629Z",
     "shell.execute_reply.started": "2025-04-13T03:19:59.103562Z",
     "shell.execute_reply": "2025-04-13T03:19:59.138098Z"
    },
    "ExecuteTime": {
     "end_time": "2025-04-13T17:08:50.945310Z",
     "start_time": "2025-04-13T17:08:50.906014Z"
    }
   },
   "outputs": [],
   "execution_count": 34
  },
  {
   "id": "906b4a493c7e220c",
   "cell_type": "code",
   "source": "peft_lora_finetuning_trainer = get_trainer(peft_model)",
   "metadata": {
    "trusted": true,
    "execution": {
     "iopub.status.busy": "2025-04-13T03:20:01.682319Z",
     "iopub.execute_input": "2025-04-13T03:20:01.682995Z",
     "iopub.status.idle": "2025-04-13T03:20:01.914905Z",
     "shell.execute_reply.started": "2025-04-13T03:20:01.682970Z",
     "shell.execute_reply": "2025-04-13T03:20:01.914321Z"
    },
    "ExecuteTime": {
     "end_time": "2025-04-13T17:08:51.268114Z",
     "start_time": "2025-04-13T17:08:50.952119Z"
    }
   },
   "outputs": [
    {
     "name": "stderr",
     "output_type": "stream",
     "text": [
      "No label_names provided for model class `PeftModelForSequenceClassification`. Since `PeftModel` hides base models input arguments, if label_names is not given, label_names can't be set automatically within `Trainer`. Note that empty label_names list will be used instead.\n"
     ]
    }
   ],
   "execution_count": 35
  },
  {
   "id": "98d9d57d-b57f-4acc-80fb-fc5443e75515",
   "cell_type": "code",
   "source": "result = peft_lora_finetuning_trainer.train()",
   "metadata": {
    "id": "98d9d57d-b57f-4acc-80fb-fc5443e75515",
    "trusted": true,
    "execution": {
     "iopub.status.busy": "2025-04-13T03:20:03.599504Z",
     "iopub.execute_input": "2025-04-13T03:20:03.600307Z"
    },
    "ExecuteTime": {
     "end_time": "2025-04-13T20:32:57.754629Z",
     "start_time": "2025-04-13T17:08:51.344428Z"
    }
   },
   "outputs": [
    {
     "name": "stdout",
     "output_type": "stream",
     "text": [
      "\n",
      "==> start No. 1  Epoch ...\n"
     ]
    },
    {
     "data": {
      "text/plain": [
       "<IPython.core.display.HTML object>"
      ],
      "text/html": [
       "\n",
       "    <div>\n",
       "      \n",
       "      <progress value='33390' max='33390' style='width:300px; height:20px; vertical-align: middle;'></progress>\n",
       "      [33390/33390 3:23:41, Epoch 5/5]\n",
       "    </div>\n",
       "    <table border=\"1\" class=\"dataframe\">\n",
       "  <thead>\n",
       " <tr style=\"text-align: left;\">\n",
       "      <th>Step</th>\n",
       "      <th>Training Loss</th>\n",
       "      <th>Validation Loss</th>\n",
       "      <th>Accuracy</th>\n",
       "    </tr>\n",
       "  </thead>\n",
       "  <tbody>\n",
       "    <tr>\n",
       "      <td>400</td>\n",
       "      <td>1.234800</td>\n",
       "      <td>1.164917</td>\n",
       "      <td>0.872389</td>\n",
       "    </tr>\n",
       "    <tr>\n",
       "      <td>800</td>\n",
       "      <td>0.371900</td>\n",
       "      <td>0.343956</td>\n",
       "      <td>0.890162</td>\n",
       "    </tr>\n",
       "    <tr>\n",
       "      <td>1200</td>\n",
       "      <td>0.301800</td>\n",
       "      <td>0.319100</td>\n",
       "      <td>0.894794</td>\n",
       "    </tr>\n",
       "    <tr>\n",
       "      <td>1600</td>\n",
       "      <td>0.327100</td>\n",
       "      <td>0.310068</td>\n",
       "      <td>0.900017</td>\n",
       "    </tr>\n",
       "    <tr>\n",
       "      <td>2000</td>\n",
       "      <td>0.299700</td>\n",
       "      <td>0.302057</td>\n",
       "      <td>0.899933</td>\n",
       "    </tr>\n",
       "    <tr>\n",
       "      <td>2400</td>\n",
       "      <td>0.251400</td>\n",
       "      <td>0.301696</td>\n",
       "      <td>0.902628</td>\n",
       "    </tr>\n",
       "    <tr>\n",
       "      <td>2800</td>\n",
       "      <td>0.263800</td>\n",
       "      <td>0.304193</td>\n",
       "      <td>0.902123</td>\n",
       "    </tr>\n",
       "    <tr>\n",
       "      <td>3200</td>\n",
       "      <td>0.303100</td>\n",
       "      <td>0.288918</td>\n",
       "      <td>0.905323</td>\n",
       "    </tr>\n",
       "    <tr>\n",
       "      <td>3600</td>\n",
       "      <td>0.290000</td>\n",
       "      <td>0.290628</td>\n",
       "      <td>0.906503</td>\n",
       "    </tr>\n",
       "    <tr>\n",
       "      <td>4000</td>\n",
       "      <td>0.300700</td>\n",
       "      <td>0.287978</td>\n",
       "      <td>0.906334</td>\n",
       "    </tr>\n",
       "    <tr>\n",
       "      <td>4400</td>\n",
       "      <td>0.249100</td>\n",
       "      <td>0.286958</td>\n",
       "      <td>0.906671</td>\n",
       "    </tr>\n",
       "    <tr>\n",
       "      <td>4800</td>\n",
       "      <td>0.263900</td>\n",
       "      <td>0.280403</td>\n",
       "      <td>0.908272</td>\n",
       "    </tr>\n",
       "    <tr>\n",
       "      <td>5200</td>\n",
       "      <td>0.290300</td>\n",
       "      <td>0.284224</td>\n",
       "      <td>0.908693</td>\n",
       "    </tr>\n",
       "    <tr>\n",
       "      <td>5600</td>\n",
       "      <td>0.250000</td>\n",
       "      <td>0.278227</td>\n",
       "      <td>0.909704</td>\n",
       "    </tr>\n",
       "    <tr>\n",
       "      <td>6000</td>\n",
       "      <td>0.278600</td>\n",
       "      <td>0.277258</td>\n",
       "      <td>0.909198</td>\n",
       "    </tr>\n",
       "    <tr>\n",
       "      <td>6400</td>\n",
       "      <td>0.289000</td>\n",
       "      <td>0.274486</td>\n",
       "      <td>0.911472</td>\n",
       "    </tr>\n",
       "    <tr>\n",
       "      <td>6800</td>\n",
       "      <td>0.267800</td>\n",
       "      <td>0.274482</td>\n",
       "      <td>0.910125</td>\n",
       "    </tr>\n",
       "    <tr>\n",
       "      <td>7200</td>\n",
       "      <td>0.227000</td>\n",
       "      <td>0.269869</td>\n",
       "      <td>0.910546</td>\n",
       "    </tr>\n",
       "    <tr>\n",
       "      <td>7600</td>\n",
       "      <td>0.233000</td>\n",
       "      <td>0.274351</td>\n",
       "      <td>0.911557</td>\n",
       "    </tr>\n",
       "    <tr>\n",
       "      <td>8000</td>\n",
       "      <td>0.247300</td>\n",
       "      <td>0.271726</td>\n",
       "      <td>0.913073</td>\n",
       "    </tr>\n",
       "    <tr>\n",
       "      <td>8400</td>\n",
       "      <td>0.276600</td>\n",
       "      <td>0.269335</td>\n",
       "      <td>0.913831</td>\n",
       "    </tr>\n",
       "    <tr>\n",
       "      <td>8800</td>\n",
       "      <td>0.278200</td>\n",
       "      <td>0.267332</td>\n",
       "      <td>0.913241</td>\n",
       "    </tr>\n",
       "    <tr>\n",
       "      <td>9200</td>\n",
       "      <td>0.270100</td>\n",
       "      <td>0.266908</td>\n",
       "      <td>0.914336</td>\n",
       "    </tr>\n",
       "    <tr>\n",
       "      <td>9600</td>\n",
       "      <td>0.280500</td>\n",
       "      <td>0.262381</td>\n",
       "      <td>0.913241</td>\n",
       "    </tr>\n",
       "    <tr>\n",
       "      <td>10000</td>\n",
       "      <td>0.269500</td>\n",
       "      <td>0.261542</td>\n",
       "      <td>0.913662</td>\n",
       "    </tr>\n",
       "    <tr>\n",
       "      <td>10400</td>\n",
       "      <td>0.247800</td>\n",
       "      <td>0.267326</td>\n",
       "      <td>0.915010</td>\n",
       "    </tr>\n",
       "    <tr>\n",
       "      <td>10800</td>\n",
       "      <td>0.257700</td>\n",
       "      <td>0.261818</td>\n",
       "      <td>0.914505</td>\n",
       "    </tr>\n",
       "    <tr>\n",
       "      <td>11200</td>\n",
       "      <td>0.223300</td>\n",
       "      <td>0.263374</td>\n",
       "      <td>0.914926</td>\n",
       "    </tr>\n",
       "    <tr>\n",
       "      <td>11600</td>\n",
       "      <td>0.206100</td>\n",
       "      <td>0.261088</td>\n",
       "      <td>0.915094</td>\n",
       "    </tr>\n",
       "    <tr>\n",
       "      <td>12000</td>\n",
       "      <td>0.227400</td>\n",
       "      <td>0.258883</td>\n",
       "      <td>0.915515</td>\n",
       "    </tr>\n",
       "    <tr>\n",
       "      <td>12400</td>\n",
       "      <td>0.242100</td>\n",
       "      <td>0.263840</td>\n",
       "      <td>0.915179</td>\n",
       "    </tr>\n",
       "    <tr>\n",
       "      <td>12800</td>\n",
       "      <td>0.275100</td>\n",
       "      <td>0.256190</td>\n",
       "      <td>0.916611</td>\n",
       "    </tr>\n",
       "    <tr>\n",
       "      <td>13200</td>\n",
       "      <td>0.284400</td>\n",
       "      <td>0.256370</td>\n",
       "      <td>0.916779</td>\n",
       "    </tr>\n",
       "    <tr>\n",
       "      <td>13600</td>\n",
       "      <td>0.212800</td>\n",
       "      <td>0.255481</td>\n",
       "      <td>0.917874</td>\n",
       "    </tr>\n",
       "    <tr>\n",
       "      <td>14000</td>\n",
       "      <td>0.230800</td>\n",
       "      <td>0.253070</td>\n",
       "      <td>0.917453</td>\n",
       "    </tr>\n",
       "    <tr>\n",
       "      <td>14400</td>\n",
       "      <td>0.213500</td>\n",
       "      <td>0.254864</td>\n",
       "      <td>0.917116</td>\n",
       "    </tr>\n",
       "    <tr>\n",
       "      <td>14800</td>\n",
       "      <td>0.287700</td>\n",
       "      <td>0.257025</td>\n",
       "      <td>0.917537</td>\n",
       "    </tr>\n",
       "    <tr>\n",
       "      <td>15200</td>\n",
       "      <td>0.231400</td>\n",
       "      <td>0.252178</td>\n",
       "      <td>0.918379</td>\n",
       "    </tr>\n",
       "    <tr>\n",
       "      <td>15600</td>\n",
       "      <td>0.238700</td>\n",
       "      <td>0.254734</td>\n",
       "      <td>0.918295</td>\n",
       "    </tr>\n",
       "    <tr>\n",
       "      <td>16000</td>\n",
       "      <td>0.180900</td>\n",
       "      <td>0.256077</td>\n",
       "      <td>0.918042</td>\n",
       "    </tr>\n",
       "    <tr>\n",
       "      <td>16400</td>\n",
       "      <td>0.291900</td>\n",
       "      <td>0.253126</td>\n",
       "      <td>0.917116</td>\n",
       "    </tr>\n",
       "    <tr>\n",
       "      <td>16800</td>\n",
       "      <td>0.306200</td>\n",
       "      <td>0.251241</td>\n",
       "      <td>0.919137</td>\n",
       "    </tr>\n",
       "    <tr>\n",
       "      <td>17200</td>\n",
       "      <td>0.240300</td>\n",
       "      <td>0.251808</td>\n",
       "      <td>0.918969</td>\n",
       "    </tr>\n",
       "    <tr>\n",
       "      <td>17600</td>\n",
       "      <td>0.273100</td>\n",
       "      <td>0.254161</td>\n",
       "      <td>0.918716</td>\n",
       "    </tr>\n",
       "    <tr>\n",
       "      <td>18000</td>\n",
       "      <td>0.262300</td>\n",
       "      <td>0.250884</td>\n",
       "      <td>0.919643</td>\n",
       "    </tr>\n",
       "    <tr>\n",
       "      <td>18400</td>\n",
       "      <td>0.335400</td>\n",
       "      <td>0.249780</td>\n",
       "      <td>0.918295</td>\n",
       "    </tr>\n",
       "    <tr>\n",
       "      <td>18800</td>\n",
       "      <td>0.240800</td>\n",
       "      <td>0.253334</td>\n",
       "      <td>0.919559</td>\n",
       "    </tr>\n",
       "    <tr>\n",
       "      <td>19200</td>\n",
       "      <td>0.287700</td>\n",
       "      <td>0.251654</td>\n",
       "      <td>0.920232</td>\n",
       "    </tr>\n",
       "    <tr>\n",
       "      <td>19600</td>\n",
       "      <td>0.279100</td>\n",
       "      <td>0.251642</td>\n",
       "      <td>0.919137</td>\n",
       "    </tr>\n",
       "    <tr>\n",
       "      <td>20000</td>\n",
       "      <td>0.237500</td>\n",
       "      <td>0.251188</td>\n",
       "      <td>0.919306</td>\n",
       "    </tr>\n",
       "    <tr>\n",
       "      <td>20400</td>\n",
       "      <td>0.245200</td>\n",
       "      <td>0.250485</td>\n",
       "      <td>0.919643</td>\n",
       "    </tr>\n",
       "    <tr>\n",
       "      <td>20800</td>\n",
       "      <td>0.238400</td>\n",
       "      <td>0.250882</td>\n",
       "      <td>0.919727</td>\n",
       "    </tr>\n",
       "    <tr>\n",
       "      <td>21200</td>\n",
       "      <td>0.208700</td>\n",
       "      <td>0.253117</td>\n",
       "      <td>0.920738</td>\n",
       "    </tr>\n",
       "    <tr>\n",
       "      <td>21600</td>\n",
       "      <td>0.264800</td>\n",
       "      <td>0.249515</td>\n",
       "      <td>0.919559</td>\n",
       "    </tr>\n",
       "    <tr>\n",
       "      <td>22000</td>\n",
       "      <td>0.264200</td>\n",
       "      <td>0.248502</td>\n",
       "      <td>0.919643</td>\n",
       "    </tr>\n",
       "    <tr>\n",
       "      <td>22400</td>\n",
       "      <td>0.249900</td>\n",
       "      <td>0.248453</td>\n",
       "      <td>0.919306</td>\n",
       "    </tr>\n",
       "    <tr>\n",
       "      <td>22800</td>\n",
       "      <td>0.240300</td>\n",
       "      <td>0.253302</td>\n",
       "      <td>0.919811</td>\n",
       "    </tr>\n",
       "    <tr>\n",
       "      <td>23200</td>\n",
       "      <td>0.202400</td>\n",
       "      <td>0.250761</td>\n",
       "      <td>0.919980</td>\n",
       "    </tr>\n",
       "    <tr>\n",
       "      <td>23600</td>\n",
       "      <td>0.265900</td>\n",
       "      <td>0.249324</td>\n",
       "      <td>0.919222</td>\n",
       "    </tr>\n",
       "    <tr>\n",
       "      <td>24000</td>\n",
       "      <td>0.209300</td>\n",
       "      <td>0.250440</td>\n",
       "      <td>0.921327</td>\n",
       "    </tr>\n",
       "    <tr>\n",
       "      <td>24400</td>\n",
       "      <td>0.242500</td>\n",
       "      <td>0.249479</td>\n",
       "      <td>0.921075</td>\n",
       "    </tr>\n",
       "    <tr>\n",
       "      <td>24800</td>\n",
       "      <td>0.246700</td>\n",
       "      <td>0.246486</td>\n",
       "      <td>0.921159</td>\n",
       "    </tr>\n",
       "    <tr>\n",
       "      <td>25200</td>\n",
       "      <td>0.217000</td>\n",
       "      <td>0.246281</td>\n",
       "      <td>0.920401</td>\n",
       "    </tr>\n",
       "    <tr>\n",
       "      <td>25600</td>\n",
       "      <td>0.285300</td>\n",
       "      <td>0.243988</td>\n",
       "      <td>0.920232</td>\n",
       "    </tr>\n",
       "    <tr>\n",
       "      <td>26000</td>\n",
       "      <td>0.172700</td>\n",
       "      <td>0.245417</td>\n",
       "      <td>0.921075</td>\n",
       "    </tr>\n",
       "    <tr>\n",
       "      <td>26400</td>\n",
       "      <td>0.272100</td>\n",
       "      <td>0.245714</td>\n",
       "      <td>0.920738</td>\n",
       "    </tr>\n",
       "    <tr>\n",
       "      <td>26800</td>\n",
       "      <td>0.237200</td>\n",
       "      <td>0.245816</td>\n",
       "      <td>0.921580</td>\n",
       "    </tr>\n",
       "    <tr>\n",
       "      <td>27200</td>\n",
       "      <td>0.253000</td>\n",
       "      <td>0.245109</td>\n",
       "      <td>0.921917</td>\n",
       "    </tr>\n",
       "    <tr>\n",
       "      <td>27600</td>\n",
       "      <td>0.236800</td>\n",
       "      <td>0.243862</td>\n",
       "      <td>0.920991</td>\n",
       "    </tr>\n",
       "    <tr>\n",
       "      <td>28000</td>\n",
       "      <td>0.194900</td>\n",
       "      <td>0.244957</td>\n",
       "      <td>0.920822</td>\n",
       "    </tr>\n",
       "    <tr>\n",
       "      <td>28400</td>\n",
       "      <td>0.278900</td>\n",
       "      <td>0.244764</td>\n",
       "      <td>0.921749</td>\n",
       "    </tr>\n",
       "    <tr>\n",
       "      <td>28800</td>\n",
       "      <td>0.267000</td>\n",
       "      <td>0.244937</td>\n",
       "      <td>0.921412</td>\n",
       "    </tr>\n",
       "    <tr>\n",
       "      <td>29200</td>\n",
       "      <td>0.264000</td>\n",
       "      <td>0.245774</td>\n",
       "      <td>0.920991</td>\n",
       "    </tr>\n",
       "    <tr>\n",
       "      <td>29600</td>\n",
       "      <td>0.280300</td>\n",
       "      <td>0.245022</td>\n",
       "      <td>0.921327</td>\n",
       "    </tr>\n",
       "    <tr>\n",
       "      <td>30000</td>\n",
       "      <td>0.235500</td>\n",
       "      <td>0.244249</td>\n",
       "      <td>0.921412</td>\n",
       "    </tr>\n",
       "    <tr>\n",
       "      <td>30400</td>\n",
       "      <td>0.218900</td>\n",
       "      <td>0.244181</td>\n",
       "      <td>0.921412</td>\n",
       "    </tr>\n",
       "    <tr>\n",
       "      <td>30800</td>\n",
       "      <td>0.228900</td>\n",
       "      <td>0.245278</td>\n",
       "      <td>0.921580</td>\n",
       "    </tr>\n",
       "    <tr>\n",
       "      <td>31200</td>\n",
       "      <td>0.206100</td>\n",
       "      <td>0.245367</td>\n",
       "      <td>0.921159</td>\n",
       "    </tr>\n",
       "    <tr>\n",
       "      <td>31600</td>\n",
       "      <td>0.309500</td>\n",
       "      <td>0.245136</td>\n",
       "      <td>0.921580</td>\n",
       "    </tr>\n",
       "    <tr>\n",
       "      <td>32000</td>\n",
       "      <td>0.249400</td>\n",
       "      <td>0.245343</td>\n",
       "      <td>0.921496</td>\n",
       "    </tr>\n",
       "    <tr>\n",
       "      <td>32400</td>\n",
       "      <td>0.264300</td>\n",
       "      <td>0.245544</td>\n",
       "      <td>0.921496</td>\n",
       "    </tr>\n",
       "    <tr>\n",
       "      <td>32800</td>\n",
       "      <td>0.254900</td>\n",
       "      <td>0.245369</td>\n",
       "      <td>0.921243</td>\n",
       "    </tr>\n",
       "    <tr>\n",
       "      <td>33200</td>\n",
       "      <td>0.281800</td>\n",
       "      <td>0.245241</td>\n",
       "      <td>0.921243</td>\n",
       "    </tr>\n",
       "  </tbody>\n",
       "</table><p>"
      ]
     },
     "metadata": {},
     "output_type": "display_data"
    },
    {
     "name": "stdout",
     "output_type": "stream",
     "text": [
      "\n",
      "[Step 400] Eval Accuracy: 0.8724\n",
      "\n",
      "[Step 800] Eval Accuracy: 0.8902\n",
      "\n",
      "[Step 1200] Eval Accuracy: 0.8948\n",
      "\n",
      "[Step 1600] Eval Accuracy: 0.9000\n",
      "\n",
      "[Step 2000] Eval Accuracy: 0.8999\n",
      "\n",
      "[Step 2400] Eval Accuracy: 0.9026\n",
      "\n",
      "[Step 2800] Eval Accuracy: 0.9021\n",
      "\n",
      "[Step 3200] Eval Accuracy: 0.9053\n",
      "\n",
      "[Step 3600] Eval Accuracy: 0.9065\n",
      "\n",
      "[Step 4000] Eval Accuracy: 0.9063\n",
      "\n",
      "[Step 4400] Eval Accuracy: 0.9067\n",
      "\n",
      "[Step 4800] Eval Accuracy: 0.9083\n",
      "\n",
      "[Step 5200] Eval Accuracy: 0.9087\n",
      "\n",
      "[Step 5600] Eval Accuracy: 0.9097\n",
      "\n",
      "[Step 6000] Eval Accuracy: 0.9092\n",
      "\n",
      "[Step 6400] Eval Accuracy: 0.9115\n",
      "==> Complete No. 1 Epoch.\n",
      "\n",
      "\n",
      "==> start No. 2  Epoch ...\n",
      "\n",
      "[Step 6800] Eval Accuracy: 0.9101\n",
      "\n",
      "[Step 7200] Eval Accuracy: 0.9105\n",
      "\n",
      "[Step 7600] Eval Accuracy: 0.9116\n",
      "\n",
      "[Step 8000] Eval Accuracy: 0.9131\n",
      "\n",
      "[Step 8400] Eval Accuracy: 0.9138\n",
      "\n",
      "[Step 8800] Eval Accuracy: 0.9132\n",
      "\n",
      "[Step 9200] Eval Accuracy: 0.9143\n",
      "\n",
      "[Step 9600] Eval Accuracy: 0.9132\n",
      "\n",
      "[Step 10000] Eval Accuracy: 0.9137\n",
      "\n",
      "[Step 10400] Eval Accuracy: 0.9150\n",
      "\n",
      "[Step 10800] Eval Accuracy: 0.9145\n",
      "\n",
      "[Step 11200] Eval Accuracy: 0.9149\n",
      "\n",
      "[Step 11600] Eval Accuracy: 0.9151\n",
      "\n",
      "[Step 12000] Eval Accuracy: 0.9155\n",
      "\n",
      "[Step 12400] Eval Accuracy: 0.9152\n",
      "\n",
      "[Step 12800] Eval Accuracy: 0.9166\n",
      "\n",
      "[Step 13200] Eval Accuracy: 0.9168\n",
      "==> Complete No. 2 Epoch.\n",
      "\n",
      "\n",
      "==> start No. 3  Epoch ...\n",
      "\n",
      "[Step 13600] Eval Accuracy: 0.9179\n",
      "\n",
      "[Step 14000] Eval Accuracy: 0.9175\n",
      "\n",
      "[Step 14400] Eval Accuracy: 0.9171\n",
      "\n",
      "[Step 14800] Eval Accuracy: 0.9175\n",
      "\n",
      "[Step 15200] Eval Accuracy: 0.9184\n",
      "\n",
      "[Step 15600] Eval Accuracy: 0.9183\n",
      "\n",
      "[Step 16000] Eval Accuracy: 0.9180\n",
      "\n",
      "[Step 16400] Eval Accuracy: 0.9171\n",
      "\n",
      "[Step 16800] Eval Accuracy: 0.9191\n",
      "\n",
      "[Step 17200] Eval Accuracy: 0.9190\n",
      "\n",
      "[Step 17600] Eval Accuracy: 0.9187\n",
      "\n",
      "[Step 18000] Eval Accuracy: 0.9196\n",
      "\n",
      "[Step 18400] Eval Accuracy: 0.9183\n",
      "\n",
      "[Step 18800] Eval Accuracy: 0.9196\n",
      "\n",
      "[Step 19200] Eval Accuracy: 0.9202\n",
      "\n",
      "[Step 19600] Eval Accuracy: 0.9191\n",
      "\n",
      "[Step 20000] Eval Accuracy: 0.9193\n",
      "==> Complete No. 3 Epoch.\n",
      "\n",
      "\n",
      "==> start No. 4  Epoch ...\n",
      "\n",
      "[Step 20400] Eval Accuracy: 0.9196\n",
      "\n",
      "[Step 20800] Eval Accuracy: 0.9197\n",
      "\n",
      "[Step 21200] Eval Accuracy: 0.9207\n",
      "\n",
      "[Step 21600] Eval Accuracy: 0.9196\n",
      "\n",
      "[Step 22000] Eval Accuracy: 0.9196\n",
      "\n",
      "[Step 22400] Eval Accuracy: 0.9193\n",
      "\n",
      "[Step 22800] Eval Accuracy: 0.9198\n",
      "\n",
      "[Step 23200] Eval Accuracy: 0.9200\n",
      "\n",
      "[Step 23600] Eval Accuracy: 0.9192\n",
      "\n",
      "[Step 24000] Eval Accuracy: 0.9213\n",
      "\n",
      "[Step 24400] Eval Accuracy: 0.9211\n",
      "\n",
      "[Step 24800] Eval Accuracy: 0.9212\n",
      "\n",
      "[Step 25200] Eval Accuracy: 0.9204\n",
      "\n",
      "[Step 25600] Eval Accuracy: 0.9202\n",
      "\n",
      "[Step 26000] Eval Accuracy: 0.9211\n",
      "\n",
      "[Step 26400] Eval Accuracy: 0.9207\n",
      "==> Complete No. 4 Epoch.\n",
      "\n",
      "\n",
      "==> start No. 5  Epoch ...\n",
      "\n",
      "[Step 26800] Eval Accuracy: 0.9216\n",
      "\n",
      "[Step 27200] Eval Accuracy: 0.9219\n",
      "\n",
      "[Step 27600] Eval Accuracy: 0.9210\n",
      "\n",
      "[Step 28000] Eval Accuracy: 0.9208\n",
      "\n",
      "[Step 28400] Eval Accuracy: 0.9217\n",
      "\n",
      "[Step 28800] Eval Accuracy: 0.9214\n",
      "\n",
      "[Step 29200] Eval Accuracy: 0.9210\n",
      "\n",
      "[Step 29600] Eval Accuracy: 0.9213\n",
      "\n",
      "[Step 30000] Eval Accuracy: 0.9214\n",
      "\n",
      "[Step 30400] Eval Accuracy: 0.9214\n",
      "\n",
      "[Step 30800] Eval Accuracy: 0.9216\n",
      "\n",
      "[Step 31200] Eval Accuracy: 0.9212\n",
      "\n",
      "[Step 31600] Eval Accuracy: 0.9216\n",
      "\n",
      "[Step 32000] Eval Accuracy: 0.9215\n",
      "\n",
      "[Step 32400] Eval Accuracy: 0.9215\n",
      "\n",
      "[Step 32800] Eval Accuracy: 0.9212\n",
      "\n",
      "[Step 33200] Eval Accuracy: 0.9212\n",
      "==> Complete No. 5 Epoch.\n",
      "\n"
     ]
    }
   ],
   "execution_count": 36
  },
  {
   "id": "5183be7e-514f-4e64-a6f4-314a827e6be5",
   "cell_type": "markdown",
   "source": "## Evaluate Finetuned Model\n",
   "metadata": {
    "id": "5183be7e-514f-4e64-a6f4-314a827e6be5"
   }
  },
  {
   "id": "038198cf-0953-47e7-bd47-b073d05f8378",
   "cell_type": "markdown",
   "source": "### Performing Inference on Custom Input\nUncomment following functions for running inference on custom inputs",
   "metadata": {
    "id": "038198cf-0953-47e7-bd47-b073d05f8378"
   }
  },
  {
   "id": "f88ad420-3f46-4eff-9d71-0ce388163062",
   "cell_type": "code",
   "source": "# def classify(model, tokenizer, text):\n#     device = torch.device(\"cuda\" if torch.cuda.is_available() else \"cpu\")\n#     inputs = tokenizer(text, truncation=True, padding=True, return_tensors=\"pt\").to(device)\n#     output = model(**inputs)\n\n#     prediction = output.logits.argmax(dim=-1).item()\n\n#     print(f'\\n Class: {prediction}, Label: {id2label[prediction]}, Text: {text}')\n#     return id2label[prediction]",
   "metadata": {
    "id": "f88ad420-3f46-4eff-9d71-0ce388163062",
    "trusted": true,
    "execution": {
     "iopub.status.busy": "2025-04-13T03:19:19.317087Z",
     "iopub.status.idle": "2025-04-13T03:19:19.317436Z",
     "shell.execute_reply.started": "2025-04-13T03:19:19.317257Z",
     "shell.execute_reply": "2025-04-13T03:19:19.317272Z"
    },
    "ExecuteTime": {
     "end_time": "2025-04-13T20:32:57.765879Z",
     "start_time": "2025-04-13T20:32:57.763010Z"
    }
   },
   "outputs": [],
   "execution_count": 37
  },
  {
   "id": "fc52bb94-5e13-4943-9225-a6d7fd053579",
   "cell_type": "code",
   "source": "# classify( peft_model, tokenizer, \"Kederis proclaims innocence Olympic champion Kostas Kederis today left hospital ahead of his date with IOC inquisitors claiming his ...\")\n# classify( peft_model, tokenizer, \"Wall St. Bears Claw Back Into the Black (Reuters) Reuters - Short-sellers, Wall Street's dwindling\\band of ultra-cynics, are seeing green again.\")",
   "metadata": {
    "id": "fc52bb94-5e13-4943-9225-a6d7fd053579",
    "trusted": true,
    "execution": {
     "iopub.status.busy": "2025-04-13T03:19:19.318968Z",
     "iopub.status.idle": "2025-04-13T03:19:19.319299Z",
     "shell.execute_reply.started": "2025-04-13T03:19:19.319134Z",
     "shell.execute_reply": "2025-04-13T03:19:19.319151Z"
    },
    "ExecuteTime": {
     "end_time": "2025-04-13T20:32:57.852321Z",
     "start_time": "2025-04-13T20:32:57.850527Z"
    }
   },
   "outputs": [],
   "execution_count": 38
  },
  {
   "id": "68a3e276-bf8c-4403-8a48-5ef19f2beccf",
   "cell_type": "markdown",
   "source": "### Run Inference on eval_dataset",
   "metadata": {
    "id": "68a3e276-bf8c-4403-8a48-5ef19f2beccf"
   }
  },
  {
   "id": "ebbc20a2-a1c0-4cb7-b842-f52e4de61ed5",
   "cell_type": "code",
   "source": "from torch.utils.data import DataLoader\nimport evaluate\nfrom tqdm import tqdm\n\ndef evaluate_model(inference_model, dataset, labelled=True, batch_size=8, data_collator=None):\n    \"\"\"\n    Evaluate a PEFT model on a dataset.\n\n    Args:\n        inference_model: The model to evaluate.\n        dataset: The dataset (Hugging Face Dataset) to run inference on.\n        labelled (bool): If True, the dataset includes labels and metrics will be computed.\n                         If False, only predictions will be returned.\n        batch_size (int): Batch size for inference.\n        data_collator: Function to collate batches. If None, the default collate_fn is used.\n\n    Returns:\n        If labelled is True, returns a tuple (metrics, predictions)\n        If labelled is False, returns the predictions.\n    \"\"\"\n    # Create the DataLoader\n    eval_dataloader = DataLoader(dataset, batch_size=batch_size, collate_fn=data_collator)\n    device = torch.device(\"cuda\" if torch.cuda.is_available() else \"cpu\")\n\n    inference_model.to(device)\n    inference_model.eval()\n\n    all_predictions = []\n    if labelled:\n        metric = evaluate.load('accuracy')\n\n    # Loop over the DataLoader\n    for batch in tqdm(eval_dataloader):\n        # Move each tensor in the batch to the device\n        batch = {k: v.to(device) for k, v in batch.items()}\n        with torch.no_grad():\n            outputs = inference_model(**batch)\n        predictions = outputs.logits.argmax(dim=-1)\n        all_predictions.append(predictions.cpu())\n\n        if labelled:\n            # Expecting that labels are provided under the \"labels\" key.\n            references = batch[\"labels\"]\n            metric.add_batch(\n                predictions=predictions.cpu().numpy(),\n                references=references.cpu().numpy()\n            )\n\n    # Concatenate predictions from all batches\n    all_predictions = torch.cat(all_predictions, dim=0)\n\n    if labelled:\n        eval_metric = metric.compute()\n        print(\"Final Evaluation Metric:\", eval_metric)\n        return eval_metric, all_predictions\n    else:\n        return all_predictions",
   "metadata": {
    "id": "ebbc20a2-a1c0-4cb7-b842-f52e4de61ed5",
    "trusted": true,
    "execution": {
     "iopub.status.busy": "2025-04-13T03:19:19.320558Z",
     "iopub.status.idle": "2025-04-13T03:19:19.320910Z",
     "shell.execute_reply.started": "2025-04-13T03:19:19.320743Z",
     "shell.execute_reply": "2025-04-13T03:19:19.320759Z"
    },
    "ExecuteTime": {
     "end_time": "2025-04-13T20:32:58.506202Z",
     "start_time": "2025-04-13T20:32:57.860361Z"
    }
   },
   "outputs": [],
   "execution_count": 39
  },
  {
   "id": "809635a6-a2c7-4d09-8d60-ababd1815003",
   "cell_type": "code",
   "source": "# Check evaluation accuracy\n_, _ = evaluate_model(peft_model, eval_dataset, True, 8, data_collator)",
   "metadata": {
    "id": "809635a6-a2c7-4d09-8d60-ababd1815003",
    "trusted": true,
    "execution": {
     "iopub.status.busy": "2025-04-13T03:19:19.322329Z",
     "iopub.status.idle": "2025-04-13T03:19:19.322619Z",
     "shell.execute_reply.started": "2025-04-13T03:19:19.322457Z",
     "shell.execute_reply": "2025-04-13T03:19:19.322486Z"
    },
    "ExecuteTime": {
     "end_time": "2025-04-13T20:33:04.679611Z",
     "start_time": "2025-04-13T20:32:58.512856Z"
    }
   },
   "outputs": [
    {
     "name": "stderr",
     "output_type": "stream",
     "text": [
      "100%|██████████| 160/160 [00:05<00:00, 27.61it/s]"
     ]
    },
    {
     "name": "stdout",
     "output_type": "stream",
     "text": [
      "Final Evaluation Metric: {'accuracy': 0.91640625}\n"
     ]
    },
    {
     "name": "stderr",
     "output_type": "stream",
     "text": [
      "\n"
     ]
    }
   ],
   "execution_count": 40
  },
  {
   "id": "75f39087-f2bb-49d3-9fe1-0d812fb30203",
   "cell_type": "markdown",
   "source": "### Run Inference on unlabelled dataset",
   "metadata": {
    "id": "75f39087-f2bb-49d3-9fe1-0d812fb30203"
   }
  },
  {
   "id": "2af62541-2c33-4f16-bb1c-cc969c715cd7",
   "cell_type": "code",
   "source": [
    "#Load your unlabelled data\n",
    "unlabelled_dataset = pd.read_pickle(\"../../data/test_unlabelled.pkl\")\n",
    "test_dataset = unlabelled_dataset.map(preprocess, batched=True, remove_columns=[\"text\"])\n",
    "unlabelled_dataset"
   ],
   "metadata": {
    "id": "2af62541-2c33-4f16-bb1c-cc969c715cd7",
    "trusted": true,
    "execution": {
     "iopub.status.busy": "2025-04-13T03:19:19.323679Z",
     "iopub.status.idle": "2025-04-13T03:19:19.323915Z",
     "shell.execute_reply.started": "2025-04-13T03:19:19.323796Z",
     "shell.execute_reply": "2025-04-13T03:19:19.323809Z"
    },
    "ExecuteTime": {
     "end_time": "2025-04-13T20:33:08.195397Z",
     "start_time": "2025-04-13T20:33:04.686224Z"
    }
   },
   "outputs": [
    {
     "data": {
      "text/plain": [
       "Map:   0%|          | 0/8000 [00:00<?, ? examples/s]"
      ],
      "application/vnd.jupyter.widget-view+json": {
       "version_major": 2,
       "version_minor": 0,
       "model_id": "b1003f2a07dd435dbdb34b9d7e849a04"
      }
     },
     "metadata": {},
     "output_type": "display_data"
    },
    {
     "data": {
      "text/plain": [
       "Dataset({\n",
       "    features: ['text'],\n",
       "    num_rows: 8000\n",
       "})"
      ]
     },
     "execution_count": 41,
     "metadata": {},
     "output_type": "execute_result"
    }
   ],
   "execution_count": 41
  },
  {
   "id": "e60991d3-38b1-4657-8854-408ce66f6b84",
   "cell_type": "code",
   "source": "# Run inference and save predictions\npreds = evaluate_model(peft_model, test_dataset, False, 8, data_collator)\ndf_output = pd.DataFrame({\n    'ID': range(len(preds)),\n    'Label': preds.numpy()  # or preds.tolist()\n})\ndf_output.to_csv(os.path.join(output_dir,\"test_output.csv\"), index=False)\nprint(\"Inference complete. Predictions saved to inference_output.csv\")",
   "metadata": {
    "id": "e60991d3-38b1-4657-8854-408ce66f6b84",
    "trusted": true,
    "execution": {
     "iopub.status.busy": "2025-04-13T03:19:19.325349Z",
     "iopub.status.idle": "2025-04-13T03:19:19.325616Z",
     "shell.execute_reply.started": "2025-04-13T03:19:19.325499Z",
     "shell.execute_reply": "2025-04-13T03:19:19.325514Z"
    },
    "ExecuteTime": {
     "end_time": "2025-04-13T20:33:34.936847Z",
     "start_time": "2025-04-13T20:33:08.227677Z"
    }
   },
   "outputs": [
    {
     "name": "stderr",
     "output_type": "stream",
     "text": [
      "100%|██████████| 1000/1000 [00:26<00:00, 37.61it/s]\n"
     ]
    },
    {
     "name": "stdout",
     "output_type": "stream",
     "text": [
      "Inference complete. Predictions saved to inference_output.csv\n"
     ]
    }
   ],
   "execution_count": 42
  }
 ]
}
