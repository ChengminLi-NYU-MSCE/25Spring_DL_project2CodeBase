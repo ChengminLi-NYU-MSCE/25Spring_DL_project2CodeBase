{
 "metadata": {
  "kernelspec": {
   "name": "python3",
   "display_name": "Python 3",
   "language": "python"
  },
  "language_info": {
   "name": "python",
   "version": "3.11.11",
   "mimetype": "text/x-python",
   "codemirror_mode": {
    "name": "ipython",
    "version": 3
   },
   "pygments_lexer": "ipython3",
   "nbconvert_exporter": "python",
   "file_extension": ".py"
  },
  "accelerator": "GPU",
  "colab": {
   "gpuType": "T4",
   "provenance": []
  },
  "kaggle": {
   "accelerator": "nvidiaTeslaT4",
   "dataSources": [
    {
     "sourceId": 98084,
     "databundleVersionId": 11711500,
     "sourceType": "competition"
    }
   ],
   "dockerImageVersionId": 31011,
   "isInternetEnabled": true,
   "language": "python",
   "sourceType": "notebook",
   "isGpuEnabled": true
  }
 },
 "nbformat_minor": 5,
 "nbformat": 4,
 "cells": [
  {
   "id": "a02285e6",
   "cell_type": "markdown",
   "source": "# Starter Notebook",
   "metadata": {
    "id": "a02285e6"
   }
  },
  {
   "id": "bdcc5329",
   "cell_type": "markdown",
   "source": "Install and import required libraries",
   "metadata": {
    "id": "bdcc5329"
   }
  },
  {
   "id": "348ceed6-b684-46c3-8a32-9bb640c9a9d7",
   "cell_type": "code",
   "source": "!pip install transformers datasets evaluate accelerate peft trl bitsandbytes\n!pip install nvidia-ml-py3",
   "metadata": {
    "id": "348ceed6-b684-46c3-8a32-9bb640c9a9d7",
    "trusted": true,
    "execution": {
     "iopub.status.busy": "2025-04-13T03:19:24.241501Z",
     "iopub.execute_input": "2025-04-13T03:19:24.241789Z",
     "iopub.status.idle": "2025-04-13T03:19:30.674544Z",
     "shell.execute_reply.started": "2025-04-13T03:19:24.241770Z",
     "shell.execute_reply": "2025-04-13T03:19:30.673692Z"
    },
    "ExecuteTime": {
     "end_time": "2025-04-13T06:34:36.004611Z",
     "start_time": "2025-04-13T06:34:33.003493Z"
    }
   },
   "outputs": [
    {
     "name": "stdout",
     "output_type": "stream",
     "text": [
      "Requirement already satisfied: transformers in f:\\pythonproject\\jupyternotebook\\.venv\\lib\\site-packages (4.50.3)\n",
      "Requirement already satisfied: datasets in f:\\pythonproject\\jupyternotebook\\.venv\\lib\\site-packages (3.5.0)\n",
      "Requirement already satisfied: evaluate in f:\\pythonproject\\jupyternotebook\\.venv\\lib\\site-packages (0.4.3)\n",
      "Requirement already satisfied: accelerate in f:\\pythonproject\\jupyternotebook\\.venv\\lib\\site-packages (1.6.0)\n",
      "Requirement already satisfied: peft in f:\\pythonproject\\jupyternotebook\\.venv\\lib\\site-packages (0.15.1)\n",
      "Requirement already satisfied: trl in f:\\pythonproject\\jupyternotebook\\.venv\\lib\\site-packages (0.16.1)\n",
      "Requirement already satisfied: bitsandbytes in f:\\pythonproject\\jupyternotebook\\.venv\\lib\\site-packages (0.45.5)\n",
      "Requirement already satisfied: filelock in f:\\pythonproject\\jupyternotebook\\.venv\\lib\\site-packages (from transformers) (3.17.0)\n",
      "Requirement already satisfied: huggingface-hub<1.0,>=0.26.0 in f:\\pythonproject\\jupyternotebook\\.venv\\lib\\site-packages (from transformers) (0.30.1)\n",
      "Requirement already satisfied: numpy>=1.17 in f:\\pythonproject\\jupyternotebook\\.venv\\lib\\site-packages (from transformers) (2.0.2)\n",
      "Requirement already satisfied: packaging>=20.0 in f:\\pythonproject\\jupyternotebook\\.venv\\lib\\site-packages (from transformers) (24.2)\n",
      "Requirement already satisfied: pyyaml>=5.1 in f:\\pythonproject\\jupyternotebook\\.venv\\lib\\site-packages (from transformers) (6.0.2)\n",
      "Requirement already satisfied: regex!=2019.12.17 in f:\\pythonproject\\jupyternotebook\\.venv\\lib\\site-packages (from transformers) (2024.11.6)\n",
      "Requirement already satisfied: requests in f:\\pythonproject\\jupyternotebook\\.venv\\lib\\site-packages (from transformers) (2.32.3)\n",
      "Requirement already satisfied: tokenizers<0.22,>=0.21 in f:\\pythonproject\\jupyternotebook\\.venv\\lib\\site-packages (from transformers) (0.21.1)\n",
      "Requirement already satisfied: safetensors>=0.4.3 in f:\\pythonproject\\jupyternotebook\\.venv\\lib\\site-packages (from transformers) (0.5.3)\n",
      "Requirement already satisfied: tqdm>=4.27 in f:\\pythonproject\\jupyternotebook\\.venv\\lib\\site-packages (from transformers) (4.67.1)\n",
      "Requirement already satisfied: pyarrow>=15.0.0 in f:\\pythonproject\\jupyternotebook\\.venv\\lib\\site-packages (from datasets) (19.0.1)\n",
      "Requirement already satisfied: dill<0.3.9,>=0.3.0 in f:\\pythonproject\\jupyternotebook\\.venv\\lib\\site-packages (from datasets) (0.3.8)\n",
      "Requirement already satisfied: pandas in f:\\pythonproject\\jupyternotebook\\.venv\\lib\\site-packages (from datasets) (2.2.3)\n",
      "Requirement already satisfied: xxhash in f:\\pythonproject\\jupyternotebook\\.venv\\lib\\site-packages (from datasets) (3.5.0)\n",
      "Requirement already satisfied: multiprocess<0.70.17 in f:\\pythonproject\\jupyternotebook\\.venv\\lib\\site-packages (from datasets) (0.70.16)\n",
      "Requirement already satisfied: fsspec<=2024.12.0,>=2023.1.0 in f:\\pythonproject\\jupyternotebook\\.venv\\lib\\site-packages (from fsspec[http]<=2024.12.0,>=2023.1.0->datasets) (2024.12.0)\n",
      "Requirement already satisfied: aiohttp in f:\\pythonproject\\jupyternotebook\\.venv\\lib\\site-packages (from datasets) (3.11.16)\n",
      "Requirement already satisfied: psutil in f:\\pythonproject\\jupyternotebook\\.venv\\lib\\site-packages (from accelerate) (7.0.0)\n",
      "Requirement already satisfied: torch>=2.0.0 in f:\\pythonproject\\jupyternotebook\\.venv\\lib\\site-packages (from accelerate) (2.6.0+cu124)\n",
      "Requirement already satisfied: rich in f:\\pythonproject\\jupyternotebook\\.venv\\lib\\site-packages (from trl) (13.9.4)\n",
      "Requirement already satisfied: aiohappyeyeballs>=2.3.0 in f:\\pythonproject\\jupyternotebook\\.venv\\lib\\site-packages (from aiohttp->datasets) (2.6.1)\n",
      "Requirement already satisfied: aiosignal>=1.1.2 in f:\\pythonproject\\jupyternotebook\\.venv\\lib\\site-packages (from aiohttp->datasets) (1.3.2)\n",
      "Requirement already satisfied: attrs>=17.3.0 in f:\\pythonproject\\jupyternotebook\\.venv\\lib\\site-packages (from aiohttp->datasets) (25.1.0)\n",
      "Requirement already satisfied: frozenlist>=1.1.1 in f:\\pythonproject\\jupyternotebook\\.venv\\lib\\site-packages (from aiohttp->datasets) (1.5.0)\n",
      "Requirement already satisfied: multidict<7.0,>=4.5 in f:\\pythonproject\\jupyternotebook\\.venv\\lib\\site-packages (from aiohttp->datasets) (6.4.3)\n",
      "Requirement already satisfied: propcache>=0.2.0 in f:\\pythonproject\\jupyternotebook\\.venv\\lib\\site-packages (from aiohttp->datasets) (0.3.1)\n",
      "Requirement already satisfied: yarl<2.0,>=1.17.0 in f:\\pythonproject\\jupyternotebook\\.venv\\lib\\site-packages (from aiohttp->datasets) (1.19.0)\n",
      "Requirement already satisfied: typing-extensions>=3.7.4.3 in f:\\pythonproject\\jupyternotebook\\.venv\\lib\\site-packages (from huggingface-hub<1.0,>=0.26.0->transformers) (4.12.2)\n",
      "Requirement already satisfied: charset-normalizer<4,>=2 in f:\\pythonproject\\jupyternotebook\\.venv\\lib\\site-packages (from requests->transformers) (3.4.1)\n",
      "Requirement already satisfied: idna<4,>=2.5 in f:\\pythonproject\\jupyternotebook\\.venv\\lib\\site-packages (from requests->transformers) (3.10)\n",
      "Requirement already satisfied: urllib3<3,>=1.21.1 in f:\\pythonproject\\jupyternotebook\\.venv\\lib\\site-packages (from requests->transformers) (2.3.0)\n",
      "Requirement already satisfied: certifi>=2017.4.17 in f:\\pythonproject\\jupyternotebook\\.venv\\lib\\site-packages (from requests->transformers) (2025.1.31)\n",
      "Requirement already satisfied: networkx in f:\\pythonproject\\jupyternotebook\\.venv\\lib\\site-packages (from torch>=2.0.0->accelerate) (3.4.2)\n",
      "Requirement already satisfied: jinja2 in f:\\pythonproject\\jupyternotebook\\.venv\\lib\\site-packages (from torch>=2.0.0->accelerate) (3.1.5)\n",
      "Requirement already satisfied: setuptools in f:\\pythonproject\\jupyternotebook\\.venv\\lib\\site-packages (from torch>=2.0.0->accelerate) (75.8.0)\n",
      "Requirement already satisfied: sympy==1.13.1 in f:\\pythonproject\\jupyternotebook\\.venv\\lib\\site-packages (from torch>=2.0.0->accelerate) (1.13.1)\n",
      "Requirement already satisfied: mpmath<1.4,>=1.1.0 in f:\\pythonproject\\jupyternotebook\\.venv\\lib\\site-packages (from sympy==1.13.1->torch>=2.0.0->accelerate) (1.3.0)\n",
      "Requirement already satisfied: colorama in f:\\pythonproject\\jupyternotebook\\.venv\\lib\\site-packages (from tqdm>=4.27->transformers) (0.4.6)\n",
      "Requirement already satisfied: python-dateutil>=2.8.2 in f:\\pythonproject\\jupyternotebook\\.venv\\lib\\site-packages (from pandas->datasets) (2.9.0.post0)\n",
      "Requirement already satisfied: pytz>=2020.1 in f:\\pythonproject\\jupyternotebook\\.venv\\lib\\site-packages (from pandas->datasets) (2025.1)\n",
      "Requirement already satisfied: tzdata>=2022.7 in f:\\pythonproject\\jupyternotebook\\.venv\\lib\\site-packages (from pandas->datasets) (2025.1)\n",
      "Requirement already satisfied: markdown-it-py>=2.2.0 in f:\\pythonproject\\jupyternotebook\\.venv\\lib\\site-packages (from rich->trl) (3.0.0)\n",
      "Requirement already satisfied: pygments<3.0.0,>=2.13.0 in f:\\pythonproject\\jupyternotebook\\.venv\\lib\\site-packages (from rich->trl) (2.19.1)\n",
      "Requirement already satisfied: mdurl~=0.1 in f:\\pythonproject\\jupyternotebook\\.venv\\lib\\site-packages (from markdown-it-py>=2.2.0->rich->trl) (0.1.2)\n",
      "Requirement already satisfied: six>=1.5 in f:\\pythonproject\\jupyternotebook\\.venv\\lib\\site-packages (from python-dateutil>=2.8.2->pandas->datasets) (1.17.0)\n",
      "Requirement already satisfied: MarkupSafe>=2.0 in f:\\pythonproject\\jupyternotebook\\.venv\\lib\\site-packages (from jinja2->torch>=2.0.0->accelerate) (3.0.2)\n",
      "Requirement already satisfied: nvidia-ml-py3 in f:\\pythonproject\\jupyternotebook\\.venv\\lib\\site-packages (7.352.0)\n"
     ]
    }
   ],
   "execution_count": 2
  },
  {
   "id": "cca64f38-d8d2-4313-8295-fbbd43c2a263",
   "cell_type": "code",
   "source": "import os\nimport pandas as pd\nimport torch\nfrom transformers import RobertaModel, RobertaTokenizer, TrainingArguments, Trainer, DataCollatorWithPadding, RobertaForSequenceClassification\nfrom peft import LoraConfig, get_peft_model, PeftModel\nfrom datasets import load_dataset, Dataset, ClassLabel\nimport pickle",
   "metadata": {
    "id": "cca64f38-d8d2-4313-8295-fbbd43c2a263",
    "trusted": true,
    "execution": {
     "iopub.status.busy": "2025-04-13T03:19:35.314630Z",
     "iopub.execute_input": "2025-04-13T03:19:35.314923Z",
     "iopub.status.idle": "2025-04-13T03:19:35.319282Z",
     "shell.execute_reply.started": "2025-04-13T03:19:35.314901Z",
     "shell.execute_reply": "2025-04-13T03:19:35.318502Z"
    },
    "ExecuteTime": {
     "end_time": "2025-04-13T06:35:15.789716Z",
     "start_time": "2025-04-13T06:34:36.009844Z"
    }
   },
   "outputs": [
    {
     "name": "stdout",
     "output_type": "stream",
     "text": [
      "WARNING:tensorflow:From F:\\pythonProject\\jupyterNotebook\\.venv\\Lib\\site-packages\\tf_keras\\src\\losses.py:2976: The name tf.losses.sparse_softmax_cross_entropy is deprecated. Please use tf.compat.v1.losses.sparse_softmax_cross_entropy instead.\n",
      "\n"
     ]
    }
   ],
   "execution_count": 3
  },
  {
   "metadata": {
    "ExecuteTime": {
     "end_time": "2025-04-13T06:35:15.840569Z",
     "start_time": "2025-04-13T06:35:15.837916Z"
    }
   },
   "cell_type": "code",
   "source": [
    "import torch\n",
    "\n",
    "# 检查CUDA是否可用\n",
    "if torch.cuda.is_available():\n",
    "    print(\"CUDA已启用！\")\n",
    "    print(\"GPU数量:\", torch.cuda.device_count())\n",
    "    print(\"当前使用的设备:\", torch.cuda.get_device_name(torch.cuda.current_device()))\n",
    "else:\n",
    "    print(\"未检测到CUDA。\")"
   ],
   "id": "1a0c4a57e04e8966",
   "outputs": [
    {
     "name": "stdout",
     "output_type": "stream",
     "text": [
      "CUDA已启用！\n",
      "GPU数量: 1\n",
      "当前使用的设备: NVIDIA GeForce RTX 4070 SUPER\n"
     ]
    }
   ],
   "execution_count": 4
  },
  {
   "id": "59d6e377",
   "cell_type": "markdown",
   "source": "## Load Tokenizer and Preprocess Data",
   "metadata": {
    "id": "59d6e377"
   }
  },
  {
   "id": "21f42747-f551-40a5-a95f-7affb1eba4a3",
   "cell_type": "code",
   "source": "base_model = 'roberta-base'\n\ndataset = load_dataset('ag_news', split='train')\ntokenizer = RobertaTokenizer.from_pretrained(base_model)\n\ndef preprocess(examples):\n    tokenized = tokenizer(examples['text'], truncation=True, padding=True)\n    return tokenized\n\ntokenized_dataset = dataset.map(preprocess, batched=True,  remove_columns=[\"text\"])\ntokenized_dataset = tokenized_dataset.rename_column(\"label\", \"labels\")",
   "metadata": {
    "id": "21f42747-f551-40a5-a95f-7affb1eba4a3",
    "trusted": true,
    "execution": {
     "iopub.status.busy": "2025-04-13T03:19:37.096598Z",
     "iopub.execute_input": "2025-04-13T03:19:37.097400Z",
     "iopub.status.idle": "2025-04-13T03:19:39.264755Z",
     "shell.execute_reply.started": "2025-04-13T03:19:37.097366Z",
     "shell.execute_reply": "2025-04-13T03:19:39.264003Z"
    },
    "ExecuteTime": {
     "end_time": "2025-04-13T06:35:18.566946Z",
     "start_time": "2025-04-13T06:35:15.902371Z"
    }
   },
   "outputs": [],
   "execution_count": 5
  },
  {
   "id": "9e07f641-bec0-43a6-8c26-510d7642916a",
   "cell_type": "code",
   "source": "# Extract the number of classess and their names\nnum_labels = dataset.features['label'].num_classes\nclass_names = dataset.features[\"label\"].names\nprint(f\"number of labels: {num_labels}\")\nprint(f\"the labels: {class_names}\")\n\n# Create an id2label mapping\n# We will need this for our classifier.\nid2label = {i: label for i, label in enumerate(class_names)}\n\ndata_collator = DataCollatorWithPadding(tokenizer=tokenizer, return_tensors=\"pt\")\n",
   "metadata": {
    "id": "9e07f641-bec0-43a6-8c26-510d7642916a",
    "trusted": true,
    "execution": {
     "iopub.status.busy": "2025-04-13T03:19:41.301081Z",
     "iopub.execute_input": "2025-04-13T03:19:41.301721Z",
     "iopub.status.idle": "2025-04-13T03:19:41.306784Z",
     "shell.execute_reply.started": "2025-04-13T03:19:41.301696Z",
     "shell.execute_reply": "2025-04-13T03:19:41.306230Z"
    },
    "ExecuteTime": {
     "end_time": "2025-04-13T06:35:18.575038Z",
     "start_time": "2025-04-13T06:35:18.571023Z"
    }
   },
   "outputs": [
    {
     "name": "stdout",
     "output_type": "stream",
     "text": [
      "number of labels: 4\n",
      "the labels: ['World', 'Sports', 'Business', 'Sci/Tech']\n"
     ]
    }
   ],
   "execution_count": 6
  },
  {
   "id": "c9e24afd",
   "cell_type": "markdown",
   "source": "## Load Pre-trained Model\nSet up config for pretrained model and download it from hugging face",
   "metadata": {
    "id": "c9e24afd"
   }
  },
  {
   "id": "262a8416-a59c-4ea1-95d9-0b1f81d6094c",
   "cell_type": "code",
   "source": "model = RobertaForSequenceClassification.from_pretrained(\n    base_model,\n    id2label=id2label)\nmodel",
   "metadata": {
    "id": "262a8416-a59c-4ea1-95d9-0b1f81d6094c",
    "trusted": true,
    "execution": {
     "iopub.status.busy": "2025-04-13T03:19:43.279763Z",
     "iopub.execute_input": "2025-04-13T03:19:43.280050Z",
     "iopub.status.idle": "2025-04-13T03:19:43.484453Z",
     "shell.execute_reply.started": "2025-04-13T03:19:43.280028Z",
     "shell.execute_reply": "2025-04-13T03:19:43.483530Z"
    },
    "ExecuteTime": {
     "end_time": "2025-04-13T06:35:19.183857Z",
     "start_time": "2025-04-13T06:35:18.590095Z"
    }
   },
   "outputs": [
    {
     "name": "stderr",
     "output_type": "stream",
     "text": [
      "Some weights of RobertaForSequenceClassification were not initialized from the model checkpoint at roberta-base and are newly initialized: ['classifier.dense.bias', 'classifier.dense.weight', 'classifier.out_proj.bias', 'classifier.out_proj.weight']\n",
      "You should probably TRAIN this model on a down-stream task to be able to use it for predictions and inference.\n"
     ]
    },
    {
     "data": {
      "text/plain": [
       "RobertaForSequenceClassification(\n",
       "  (roberta): RobertaModel(\n",
       "    (embeddings): RobertaEmbeddings(\n",
       "      (word_embeddings): Embedding(50265, 768, padding_idx=1)\n",
       "      (position_embeddings): Embedding(514, 768, padding_idx=1)\n",
       "      (token_type_embeddings): Embedding(1, 768)\n",
       "      (LayerNorm): LayerNorm((768,), eps=1e-05, elementwise_affine=True)\n",
       "      (dropout): Dropout(p=0.1, inplace=False)\n",
       "    )\n",
       "    (encoder): RobertaEncoder(\n",
       "      (layer): ModuleList(\n",
       "        (0-11): 12 x RobertaLayer(\n",
       "          (attention): RobertaAttention(\n",
       "            (self): RobertaSdpaSelfAttention(\n",
       "              (query): Linear(in_features=768, out_features=768, bias=True)\n",
       "              (key): Linear(in_features=768, out_features=768, bias=True)\n",
       "              (value): Linear(in_features=768, out_features=768, bias=True)\n",
       "              (dropout): Dropout(p=0.1, inplace=False)\n",
       "            )\n",
       "            (output): RobertaSelfOutput(\n",
       "              (dense): Linear(in_features=768, out_features=768, bias=True)\n",
       "              (LayerNorm): LayerNorm((768,), eps=1e-05, elementwise_affine=True)\n",
       "              (dropout): Dropout(p=0.1, inplace=False)\n",
       "            )\n",
       "          )\n",
       "          (intermediate): RobertaIntermediate(\n",
       "            (dense): Linear(in_features=768, out_features=3072, bias=True)\n",
       "            (intermediate_act_fn): GELUActivation()\n",
       "          )\n",
       "          (output): RobertaOutput(\n",
       "            (dense): Linear(in_features=3072, out_features=768, bias=True)\n",
       "            (LayerNorm): LayerNorm((768,), eps=1e-05, elementwise_affine=True)\n",
       "            (dropout): Dropout(p=0.1, inplace=False)\n",
       "          )\n",
       "        )\n",
       "      )\n",
       "    )\n",
       "  )\n",
       "  (classifier): RobertaClassificationHead(\n",
       "    (dense): Linear(in_features=768, out_features=768, bias=True)\n",
       "    (dropout): Dropout(p=0.1, inplace=False)\n",
       "    (out_proj): Linear(in_features=768, out_features=4, bias=True)\n",
       "  )\n",
       ")"
      ]
     },
     "execution_count": 7,
     "metadata": {},
     "output_type": "execute_result"
    }
   ],
   "execution_count": 7
  },
  {
   "id": "f265839d-a088-4693-8474-862641de11ed",
   "cell_type": "markdown",
   "source": "## Anything from here on can be modified",
   "metadata": {
    "id": "f265839d-a088-4693-8474-862641de11ed"
   }
  },
  {
   "id": "e7413430-be57-482b-856e-36bd4ba799df",
   "cell_type": "code",
   "source": "# Split the original training set\nsplit_datasets = tokenized_dataset.train_test_split(test_size=1280, seed=42)\ntrain_val_dataset = split_datasets['train']\neval_dataset = split_datasets['test']\n\nval_split = train_val_dataset.train_test_split(test_size=0.1, seed=42)\ntrain_dataset = val_split['train']\nvalidation_dataset = val_split['test']\n\n\nprint(f\"number of train set: {len(train_dataset)}\")\nprint(f\"number of validation set: {len(validation_dataset)}\")\nprint(f\"number of test set: {len(eval_dataset)}\")",
   "metadata": {
    "id": "e7413430-be57-482b-856e-36bd4ba799df",
    "trusted": true,
    "execution": {
     "iopub.status.busy": "2025-04-13T03:19:45.594076Z",
     "iopub.execute_input": "2025-04-13T03:19:45.594386Z",
     "iopub.status.idle": "2025-04-13T03:19:45.612349Z",
     "shell.execute_reply.started": "2025-04-13T03:19:45.594362Z",
     "shell.execute_reply": "2025-04-13T03:19:45.611645Z"
    },
    "ExecuteTime": {
     "end_time": "2025-04-13T06:35:19.215124Z",
     "start_time": "2025-04-13T06:35:19.194233Z"
    }
   },
   "outputs": [
    {
     "name": "stdout",
     "output_type": "stream",
     "text": [
      "number of train set: 106848\n",
      "number of validation set: 11872\n",
      "number of test set: 1280\n"
     ]
    }
   ],
   "execution_count": 8
  },
  {
   "id": "4c89317e-6cae-49bd-a52e-7b6f6abc9325",
   "cell_type": "code",
   "source": "# PEFT Config\npeft_config = LoraConfig(\n    r=4,\n    lora_alpha=16,\n    lora_dropout=0.05,\n    bias = 'none',\n    target_modules = ['query','value'],\n    task_type=\"SEQ_CLS\",\n)\n\npeft_model = get_peft_model(model, peft_config)\npeft_model",
   "metadata": {
    "trusted": true,
    "execution": {
     "iopub.status.busy": "2025-04-13T03:19:47.375992Z",
     "iopub.execute_input": "2025-04-13T03:19:47.376614Z",
     "iopub.status.idle": "2025-04-13T03:19:47.415168Z",
     "shell.execute_reply.started": "2025-04-13T03:19:47.376589Z",
     "shell.execute_reply": "2025-04-13T03:19:47.414574Z"
    },
    "ExecuteTime": {
     "end_time": "2025-04-13T06:35:19.443392Z",
     "start_time": "2025-04-13T06:35:19.221475Z"
    }
   },
   "outputs": [
    {
     "data": {
      "text/plain": [
       "PeftModelForSequenceClassification(\n",
       "  (base_model): LoraModel(\n",
       "    (model): RobertaForSequenceClassification(\n",
       "      (roberta): RobertaModel(\n",
       "        (embeddings): RobertaEmbeddings(\n",
       "          (word_embeddings): Embedding(50265, 768, padding_idx=1)\n",
       "          (position_embeddings): Embedding(514, 768, padding_idx=1)\n",
       "          (token_type_embeddings): Embedding(1, 768)\n",
       "          (LayerNorm): LayerNorm((768,), eps=1e-05, elementwise_affine=True)\n",
       "          (dropout): Dropout(p=0.1, inplace=False)\n",
       "        )\n",
       "        (encoder): RobertaEncoder(\n",
       "          (layer): ModuleList(\n",
       "            (0-11): 12 x RobertaLayer(\n",
       "              (attention): RobertaAttention(\n",
       "                (self): RobertaSdpaSelfAttention(\n",
       "                  (query): lora.Linear(\n",
       "                    (base_layer): Linear(in_features=768, out_features=768, bias=True)\n",
       "                    (lora_dropout): ModuleDict(\n",
       "                      (default): Dropout(p=0.05, inplace=False)\n",
       "                    )\n",
       "                    (lora_A): ModuleDict(\n",
       "                      (default): Linear(in_features=768, out_features=4, bias=False)\n",
       "                    )\n",
       "                    (lora_B): ModuleDict(\n",
       "                      (default): Linear(in_features=4, out_features=768, bias=False)\n",
       "                    )\n",
       "                    (lora_embedding_A): ParameterDict()\n",
       "                    (lora_embedding_B): ParameterDict()\n",
       "                    (lora_magnitude_vector): ModuleDict()\n",
       "                  )\n",
       "                  (key): Linear(in_features=768, out_features=768, bias=True)\n",
       "                  (value): lora.Linear(\n",
       "                    (base_layer): Linear(in_features=768, out_features=768, bias=True)\n",
       "                    (lora_dropout): ModuleDict(\n",
       "                      (default): Dropout(p=0.05, inplace=False)\n",
       "                    )\n",
       "                    (lora_A): ModuleDict(\n",
       "                      (default): Linear(in_features=768, out_features=4, bias=False)\n",
       "                    )\n",
       "                    (lora_B): ModuleDict(\n",
       "                      (default): Linear(in_features=4, out_features=768, bias=False)\n",
       "                    )\n",
       "                    (lora_embedding_A): ParameterDict()\n",
       "                    (lora_embedding_B): ParameterDict()\n",
       "                    (lora_magnitude_vector): ModuleDict()\n",
       "                  )\n",
       "                  (dropout): Dropout(p=0.1, inplace=False)\n",
       "                )\n",
       "                (output): RobertaSelfOutput(\n",
       "                  (dense): Linear(in_features=768, out_features=768, bias=True)\n",
       "                  (LayerNorm): LayerNorm((768,), eps=1e-05, elementwise_affine=True)\n",
       "                  (dropout): Dropout(p=0.1, inplace=False)\n",
       "                )\n",
       "              )\n",
       "              (intermediate): RobertaIntermediate(\n",
       "                (dense): Linear(in_features=768, out_features=3072, bias=True)\n",
       "                (intermediate_act_fn): GELUActivation()\n",
       "              )\n",
       "              (output): RobertaOutput(\n",
       "                (dense): Linear(in_features=3072, out_features=768, bias=True)\n",
       "                (LayerNorm): LayerNorm((768,), eps=1e-05, elementwise_affine=True)\n",
       "                (dropout): Dropout(p=0.1, inplace=False)\n",
       "              )\n",
       "            )\n",
       "          )\n",
       "        )\n",
       "      )\n",
       "      (classifier): ModulesToSaveWrapper(\n",
       "        (original_module): RobertaClassificationHead(\n",
       "          (dense): Linear(in_features=768, out_features=768, bias=True)\n",
       "          (dropout): Dropout(p=0.1, inplace=False)\n",
       "          (out_proj): Linear(in_features=768, out_features=4, bias=True)\n",
       "        )\n",
       "        (modules_to_save): ModuleDict(\n",
       "          (default): RobertaClassificationHead(\n",
       "            (dense): Linear(in_features=768, out_features=768, bias=True)\n",
       "            (dropout): Dropout(p=0.1, inplace=False)\n",
       "            (out_proj): Linear(in_features=768, out_features=4, bias=True)\n",
       "          )\n",
       "        )\n",
       "      )\n",
       "    )\n",
       "  )\n",
       ")"
      ]
     },
     "execution_count": 9,
     "metadata": {},
     "output_type": "execute_result"
    }
   ],
   "execution_count": 9
  },
  {
   "id": "7de8ce9e-3a1f-439e-b608-07916ab5a5ff",
   "cell_type": "code",
   "source": [
    "#show LoRA trainable parameters\n",
    "num_trainable_params = sum(p.numel() for p in peft_model.parameters() if p.requires_grad)\n",
    "print(\"LoRA model parameter:\", num_trainable_params)\n",
    "assert num_trainable_params <= 1e6, f\"warning: parameter exceeds 1e6. Now we have {num_trainable_params}\""
   ],
   "metadata": {
    "trusted": true,
    "execution": {
     "iopub.status.busy": "2025-04-13T03:19:49.847431Z",
     "iopub.execute_input": "2025-04-13T03:19:49.848037Z",
     "iopub.status.idle": "2025-04-13T03:19:49.854156Z",
     "shell.execute_reply.started": "2025-04-13T03:19:49.848011Z",
     "shell.execute_reply": "2025-04-13T03:19:49.853248Z"
    },
    "ExecuteTime": {
     "end_time": "2025-04-13T06:35:19.454480Z",
     "start_time": "2025-04-13T06:35:19.450334Z"
    }
   },
   "outputs": [
    {
     "name": "stdout",
     "output_type": "stream",
     "text": [
      "LoRA model parameter: 741124\n"
     ]
    }
   ],
   "execution_count": 10
  },
  {
   "id": "652452e3",
   "cell_type": "markdown",
   "source": "## Setup LoRA Config\nSetup PEFT config and get peft model for finetuning",
   "metadata": {
    "id": "652452e3"
   }
  },
  {
   "id": "677d681f-34d0-4dd3-bdc4-f5e1fade2b18",
   "cell_type": "code",
   "source": [
    "#show LoRA trainable parameters percentage\n",
    "print('PEFT Model')\n",
    "peft_model.print_trainable_parameters()"
   ],
   "metadata": {
    "trusted": true,
    "execution": {
     "iopub.status.busy": "2025-04-13T03:19:51.846377Z",
     "iopub.execute_input": "2025-04-13T03:19:51.846649Z",
     "iopub.status.idle": "2025-04-13T03:19:51.852054Z",
     "shell.execute_reply.started": "2025-04-13T03:19:51.846631Z",
     "shell.execute_reply": "2025-04-13T03:19:51.851104Z"
    },
    "ExecuteTime": {
     "end_time": "2025-04-13T06:35:19.469203Z",
     "start_time": "2025-04-13T06:35:19.465405Z"
    }
   },
   "outputs": [
    {
     "name": "stdout",
     "output_type": "stream",
     "text": [
      "PEFT Model\n",
      "trainable params: 741,124 || all params: 125,389,832 || trainable%: 0.5911\n"
     ]
    }
   ],
   "execution_count": 11
  },
  {
   "id": "12284b58",
   "cell_type": "markdown",
   "source": "## Training Setup",
   "metadata": {
    "id": "12284b58"
   }
  },
  {
   "metadata": {
    "ExecuteTime": {
     "end_time": "2025-04-13T06:35:20.519855Z",
     "start_time": "2025-04-13T06:35:19.476785Z"
    }
   },
   "cell_type": "code",
   "source": "!pip install scikit-learn",
   "id": "c90864a11fc5602",
   "outputs": [
    {
     "name": "stdout",
     "output_type": "stream",
     "text": [
      "Requirement already satisfied: scikit-learn in f:\\pythonproject\\jupyternotebook\\.venv\\lib\\site-packages (1.6.1)\n",
      "Requirement already satisfied: numpy>=1.19.5 in f:\\pythonproject\\jupyternotebook\\.venv\\lib\\site-packages (from scikit-learn) (2.0.2)\n",
      "Requirement already satisfied: scipy>=1.6.0 in f:\\pythonproject\\jupyternotebook\\.venv\\lib\\site-packages (from scikit-learn) (1.15.2)\n",
      "Requirement already satisfied: joblib>=1.2.0 in f:\\pythonproject\\jupyternotebook\\.venv\\lib\\site-packages (from scikit-learn) (1.4.2)\n",
      "Requirement already satisfied: threadpoolctl>=3.1.0 in f:\\pythonproject\\jupyternotebook\\.venv\\lib\\site-packages (from scikit-learn) (3.6.0)\n"
     ]
    }
   ],
   "execution_count": 12
  },
  {
   "id": "064bc827-612f-4939-bc1b-478d223ee9e8",
   "cell_type": "code",
   "source": "# To track evaluation accuracy during training\nfrom sklearn.metrics import accuracy_score\n\ndef compute_metrics(pred):\n    labels = pred.label_ids\n    preds = pred.predictions.argmax(-1)\n    # Calculate accuracy\n    accuracy = accuracy_score(labels, preds)\n    return {\n        'accuracy': accuracy\n    }",
   "metadata": {
    "trusted": true,
    "execution": {
     "iopub.status.busy": "2025-04-13T03:19:53.460971Z",
     "iopub.execute_input": "2025-04-13T03:19:53.461653Z",
     "iopub.status.idle": "2025-04-13T03:19:53.465813Z",
     "shell.execute_reply.started": "2025-04-13T03:19:53.461631Z",
     "shell.execute_reply": "2025-04-13T03:19:53.464962Z"
    },
    "ExecuteTime": {
     "end_time": "2025-04-13T06:35:20.529736Z",
     "start_time": "2025-04-13T06:35:20.526213Z"
    }
   },
   "outputs": [],
   "execution_count": 13
  },
  {
   "id": "5f364117790cee39",
   "cell_type": "code",
   "source": "#Give dynamic progress of Trainer\nfrom transformers import TrainerCallback\n\nclass EpochProgressCallback(TrainerCallback):\n    def on_epoch_begin(self, args, state, control, **kwargs):\n        print(f\"\\n==> start No. {state.epoch + 1:.0f}  Epoch ...\")\n    def on_epoch_end(self, args, state, control, **kwargs):\n        print(f\"==> Complete No. {state.epoch:.0f} Epoch.\\n\")",
   "metadata": {
    "trusted": true,
    "execution": {
     "iopub.status.busy": "2025-04-13T03:19:55.942012Z",
     "iopub.execute_input": "2025-04-13T03:19:55.942276Z",
     "iopub.status.idle": "2025-04-13T03:19:55.946797Z",
     "shell.execute_reply.started": "2025-04-13T03:19:55.942257Z",
     "shell.execute_reply": "2025-04-13T03:19:55.946027Z"
    },
    "ExecuteTime": {
     "end_time": "2025-04-13T06:35:20.538991Z",
     "start_time": "2025-04-13T06:35:20.535507Z"
    }
   },
   "outputs": [],
   "execution_count": 14
  },
  {
   "id": "812153687b1994d9",
   "cell_type": "code",
   "source": "from transformers import TrainerCallback\n\nclass StepEvaluationCallback(TrainerCallback):\n    def on_evaluate(self, args, state, control, metrics, **kwargs):\n        # check accuracy at each evaluation.\n        if metrics is not None and \"eval_accuracy\" in metrics:\n            print(f\"\\n[Step {state.global_step}] Eval Accuracy: {metrics['eval_accuracy']:.4f}\")",
   "metadata": {
    "trusted": true,
    "execution": {
     "iopub.status.busy": "2025-04-13T03:19:57.409592Z",
     "iopub.execute_input": "2025-04-13T03:19:57.409870Z",
     "iopub.status.idle": "2025-04-13T03:19:57.414050Z",
     "shell.execute_reply.started": "2025-04-13T03:19:57.409848Z",
     "shell.execute_reply": "2025-04-13T03:19:57.413404Z"
    },
    "ExecuteTime": {
     "end_time": "2025-04-13T06:35:20.547836Z",
     "start_time": "2025-04-13T06:35:20.544963Z"
    }
   },
   "outputs": [],
   "execution_count": 15
  },
  {
   "id": "9b848278",
   "cell_type": "markdown",
   "source": "### Start Training",
   "metadata": {
    "id": "9b848278"
   }
  },
  {
   "id": "768b4917-65de-4e55-ae7f-698e287535d4",
   "cell_type": "code",
   "source": [
    "# Setup Training args\n",
    "#.csv file output position\n",
    "output_dir = \"code/RoBERTa_AGNEWS/output\"\n",
    "training_args = TrainingArguments(\n",
    "    output_dir=output_dir,\n",
    "    report_to=None,\n",
    "    eval_strategy='steps',\n",
    "    eval_steps=2400, #Each 2400 steps we evaluate once.\n",
    "    save_strategy='steps',\n",
    "    save_steps=2400, #Each 2400 steps we save once.\n",
    "    load_best_model_at_end=True,\n",
    "    metric_for_best_model='accuracy',\n",
    "    logging_steps=50,\n",
    "    learning_rate=2e-5,\n",
    "    num_train_epochs=3,\n",
    "    # max_steps=1200,\n",
    "    use_cpu=False,\n",
    "    dataloader_num_workers=4,\n",
    "    per_device_train_batch_size=16,\n",
    "    per_device_eval_batch_size=64,\n",
    "    optim=\"adamw_torch\"\n",
    ")\n",
    "\n",
    "def get_trainer(model):\n",
    "      return  Trainer(\n",
    "          model=model,\n",
    "          args=training_args,\n",
    "          compute_metrics=compute_metrics,\n",
    "          train_dataset=train_dataset,\n",
    "          eval_dataset=validation_dataset,\n",
    "          data_collator=data_collator,\n",
    "          callbacks=[EpochProgressCallback(), StepEvaluationCallback()]\n",
    "      )"
   ],
   "metadata": {
    "id": "768b4917-65de-4e55-ae7f-698e287535d4",
    "trusted": true,
    "execution": {
     "iopub.status.busy": "2025-04-13T03:19:59.102992Z",
     "iopub.execute_input": "2025-04-13T03:19:59.103589Z",
     "iopub.status.idle": "2025-04-13T03:19:59.138629Z",
     "shell.execute_reply.started": "2025-04-13T03:19:59.103562Z",
     "shell.execute_reply": "2025-04-13T03:19:59.138098Z"
    },
    "ExecuteTime": {
     "end_time": "2025-04-13T06:35:20.599450Z",
     "start_time": "2025-04-13T06:35:20.554288Z"
    }
   },
   "outputs": [],
   "execution_count": 16
  },
  {
   "id": "906b4a493c7e220c",
   "cell_type": "code",
   "source": "peft_lora_finetuning_trainer = get_trainer(peft_model)",
   "metadata": {
    "trusted": true,
    "execution": {
     "iopub.status.busy": "2025-04-13T03:20:01.682319Z",
     "iopub.execute_input": "2025-04-13T03:20:01.682995Z",
     "iopub.status.idle": "2025-04-13T03:20:01.914905Z",
     "shell.execute_reply.started": "2025-04-13T03:20:01.682970Z",
     "shell.execute_reply": "2025-04-13T03:20:01.914321Z"
    },
    "ExecuteTime": {
     "end_time": "2025-04-13T06:35:21.500664Z",
     "start_time": "2025-04-13T06:35:20.607541Z"
    }
   },
   "outputs": [
    {
     "name": "stderr",
     "output_type": "stream",
     "text": [
      "No label_names provided for model class `PeftModelForSequenceClassification`. Since `PeftModel` hides base models input arguments, if label_names is not given, label_names can't be set automatically within `Trainer`. Note that empty label_names list will be used instead.\n"
     ]
    }
   ],
   "execution_count": 17
  },
  {
   "id": "98d9d57d-b57f-4acc-80fb-fc5443e75515",
   "cell_type": "code",
   "source": "result = peft_lora_finetuning_trainer.train()",
   "metadata": {
    "id": "98d9d57d-b57f-4acc-80fb-fc5443e75515",
    "trusted": true,
    "execution": {
     "iopub.status.busy": "2025-04-13T03:20:03.599504Z",
     "iopub.execute_input": "2025-04-13T03:20:03.600307Z"
    },
    "ExecuteTime": {
     "end_time": "2025-04-13T07:43:52.047958Z",
     "start_time": "2025-04-13T06:35:21.506930Z"
    }
   },
   "outputs": [
    {
     "name": "stdout",
     "output_type": "stream",
     "text": [
      "\n",
      "==> start No. 1  Epoch ...\n"
     ]
    },
    {
     "data": {
      "text/plain": [
       "<IPython.core.display.HTML object>"
      ],
      "text/html": [
       "\n",
       "    <div>\n",
       "      \n",
       "      <progress value='20034' max='20034' style='width:300px; height:20px; vertical-align: middle;'></progress>\n",
       "      [20034/20034 1:08:06, Epoch 3/3]\n",
       "    </div>\n",
       "    <table border=\"1\" class=\"dataframe\">\n",
       "  <thead>\n",
       " <tr style=\"text-align: left;\">\n",
       "      <th>Step</th>\n",
       "      <th>Training Loss</th>\n",
       "      <th>Validation Loss</th>\n",
       "      <th>Accuracy</th>\n",
       "    </tr>\n",
       "  </thead>\n",
       "  <tbody>\n",
       "    <tr>\n",
       "      <td>2400</td>\n",
       "      <td>0.241900</td>\n",
       "      <td>0.289838</td>\n",
       "      <td>0.908103</td>\n",
       "    </tr>\n",
       "    <tr>\n",
       "      <td>4800</td>\n",
       "      <td>0.246300</td>\n",
       "      <td>0.271236</td>\n",
       "      <td>0.912989</td>\n",
       "    </tr>\n",
       "    <tr>\n",
       "      <td>7200</td>\n",
       "      <td>0.222800</td>\n",
       "      <td>0.257330</td>\n",
       "      <td>0.916442</td>\n",
       "    </tr>\n",
       "    <tr>\n",
       "      <td>9600</td>\n",
       "      <td>0.258200</td>\n",
       "      <td>0.251427</td>\n",
       "      <td>0.918379</td>\n",
       "    </tr>\n",
       "    <tr>\n",
       "      <td>12000</td>\n",
       "      <td>0.225200</td>\n",
       "      <td>0.244414</td>\n",
       "      <td>0.920654</td>\n",
       "    </tr>\n",
       "    <tr>\n",
       "      <td>14400</td>\n",
       "      <td>0.199800</td>\n",
       "      <td>0.241629</td>\n",
       "      <td>0.921664</td>\n",
       "    </tr>\n",
       "    <tr>\n",
       "      <td>16800</td>\n",
       "      <td>0.287400</td>\n",
       "      <td>0.239734</td>\n",
       "      <td>0.920991</td>\n",
       "    </tr>\n",
       "    <tr>\n",
       "      <td>19200</td>\n",
       "      <td>0.272000</td>\n",
       "      <td>0.240042</td>\n",
       "      <td>0.921917</td>\n",
       "    </tr>\n",
       "  </tbody>\n",
       "</table><p>"
      ]
     },
     "metadata": {},
     "output_type": "display_data"
    },
    {
     "name": "stdout",
     "output_type": "stream",
     "text": [
      "\n",
      "[Step 2400] Eval Accuracy: 0.9081\n",
      "\n",
      "[Step 4800] Eval Accuracy: 0.9130\n",
      "==> Complete No. 1 Epoch.\n",
      "\n",
      "\n",
      "==> start No. 2  Epoch ...\n",
      "\n",
      "[Step 7200] Eval Accuracy: 0.9164\n",
      "\n",
      "[Step 9600] Eval Accuracy: 0.9184\n",
      "\n",
      "[Step 12000] Eval Accuracy: 0.9207\n",
      "==> Complete No. 2 Epoch.\n",
      "\n",
      "\n",
      "==> start No. 3  Epoch ...\n",
      "\n",
      "[Step 14400] Eval Accuracy: 0.9217\n",
      "\n",
      "[Step 16800] Eval Accuracy: 0.9210\n",
      "\n",
      "[Step 19200] Eval Accuracy: 0.9219\n",
      "==> Complete No. 3 Epoch.\n",
      "\n"
     ]
    }
   ],
   "execution_count": 18
  },
  {
   "id": "5183be7e-514f-4e64-a6f4-314a827e6be5",
   "cell_type": "markdown",
   "source": "## Evaluate Finetuned Model\n",
   "metadata": {
    "id": "5183be7e-514f-4e64-a6f4-314a827e6be5"
   }
  },
  {
   "id": "038198cf-0953-47e7-bd47-b073d05f8378",
   "cell_type": "markdown",
   "source": "### Performing Inference on Custom Input\nUncomment following functions for running inference on custom inputs",
   "metadata": {
    "id": "038198cf-0953-47e7-bd47-b073d05f8378"
   }
  },
  {
   "id": "f88ad420-3f46-4eff-9d71-0ce388163062",
   "cell_type": "code",
   "source": "# def classify(model, tokenizer, text):\n#     device = torch.device(\"cuda\" if torch.cuda.is_available() else \"cpu\")\n#     inputs = tokenizer(text, truncation=True, padding=True, return_tensors=\"pt\").to(device)\n#     output = model(**inputs)\n\n#     prediction = output.logits.argmax(dim=-1).item()\n\n#     print(f'\\n Class: {prediction}, Label: {id2label[prediction]}, Text: {text}')\n#     return id2label[prediction]",
   "metadata": {
    "id": "f88ad420-3f46-4eff-9d71-0ce388163062",
    "trusted": true,
    "execution": {
     "iopub.status.busy": "2025-04-13T03:19:19.317087Z",
     "iopub.status.idle": "2025-04-13T03:19:19.317436Z",
     "shell.execute_reply.started": "2025-04-13T03:19:19.317257Z",
     "shell.execute_reply": "2025-04-13T03:19:19.317272Z"
    },
    "ExecuteTime": {
     "end_time": "2025-04-13T07:43:52.057313Z",
     "start_time": "2025-04-13T07:43:52.055292Z"
    }
   },
   "outputs": [],
   "execution_count": 19
  },
  {
   "id": "fc52bb94-5e13-4943-9225-a6d7fd053579",
   "cell_type": "code",
   "source": "# classify( peft_model, tokenizer, \"Kederis proclaims innocence Olympic champion Kostas Kederis today left hospital ahead of his date with IOC inquisitors claiming his ...\")\n# classify( peft_model, tokenizer, \"Wall St. Bears Claw Back Into the Black (Reuters) Reuters - Short-sellers, Wall Street's dwindling\\band of ultra-cynics, are seeing green again.\")",
   "metadata": {
    "id": "fc52bb94-5e13-4943-9225-a6d7fd053579",
    "trusted": true,
    "execution": {
     "iopub.status.busy": "2025-04-13T03:19:19.318968Z",
     "iopub.status.idle": "2025-04-13T03:19:19.319299Z",
     "shell.execute_reply.started": "2025-04-13T03:19:19.319134Z",
     "shell.execute_reply": "2025-04-13T03:19:19.319151Z"
    },
    "ExecuteTime": {
     "end_time": "2025-04-13T07:43:52.067697Z",
     "start_time": "2025-04-13T07:43:52.065678Z"
    }
   },
   "outputs": [],
   "execution_count": 20
  },
  {
   "id": "68a3e276-bf8c-4403-8a48-5ef19f2beccf",
   "cell_type": "markdown",
   "source": "### Run Inference on eval_dataset",
   "metadata": {
    "id": "68a3e276-bf8c-4403-8a48-5ef19f2beccf"
   }
  },
  {
   "id": "ebbc20a2-a1c0-4cb7-b842-f52e4de61ed5",
   "cell_type": "code",
   "source": "from torch.utils.data import DataLoader\nimport evaluate\nfrom tqdm import tqdm\n\ndef evaluate_model(inference_model, dataset, labelled=True, batch_size=8, data_collator=None):\n    \"\"\"\n    Evaluate a PEFT model on a dataset.\n\n    Args:\n        inference_model: The model to evaluate.\n        dataset: The dataset (Hugging Face Dataset) to run inference on.\n        labelled (bool): If True, the dataset includes labels and metrics will be computed.\n                         If False, only predictions will be returned.\n        batch_size (int): Batch size for inference.\n        data_collator: Function to collate batches. If None, the default collate_fn is used.\n\n    Returns:\n        If labelled is True, returns a tuple (metrics, predictions)\n        If labelled is False, returns the predictions.\n    \"\"\"\n    # Create the DataLoader\n    eval_dataloader = DataLoader(dataset, batch_size=batch_size, collate_fn=data_collator)\n    device = torch.device(\"cuda\" if torch.cuda.is_available() else \"cpu\")\n\n    inference_model.to(device)\n    inference_model.eval()\n\n    all_predictions = []\n    if labelled:\n        metric = evaluate.load('accuracy')\n\n    # Loop over the DataLoader\n    for batch in tqdm(eval_dataloader):\n        # Move each tensor in the batch to the device\n        batch = {k: v.to(device) for k, v in batch.items()}\n        with torch.no_grad():\n            outputs = inference_model(**batch)\n        predictions = outputs.logits.argmax(dim=-1)\n        all_predictions.append(predictions.cpu())\n\n        if labelled:\n            # Expecting that labels are provided under the \"labels\" key.\n            references = batch[\"labels\"]\n            metric.add_batch(\n                predictions=predictions.cpu().numpy(),\n                references=references.cpu().numpy()\n            )\n\n    # Concatenate predictions from all batches\n    all_predictions = torch.cat(all_predictions, dim=0)\n\n    if labelled:\n        eval_metric = metric.compute()\n        print(\"Final Evaluation Metric:\", eval_metric)\n        return eval_metric, all_predictions\n    else:\n        return all_predictions",
   "metadata": {
    "id": "ebbc20a2-a1c0-4cb7-b842-f52e4de61ed5",
    "trusted": true,
    "execution": {
     "iopub.status.busy": "2025-04-13T03:19:19.320558Z",
     "iopub.status.idle": "2025-04-13T03:19:19.320910Z",
     "shell.execute_reply.started": "2025-04-13T03:19:19.320743Z",
     "shell.execute_reply": "2025-04-13T03:19:19.320759Z"
    },
    "ExecuteTime": {
     "end_time": "2025-04-13T07:43:52.723761Z",
     "start_time": "2025-04-13T07:43:52.081517Z"
    }
   },
   "outputs": [],
   "execution_count": 21
  },
  {
   "id": "809635a6-a2c7-4d09-8d60-ababd1815003",
   "cell_type": "code",
   "source": "# Check evaluation accuracy\n_, _ = evaluate_model(peft_model, eval_dataset, True, 8, data_collator)",
   "metadata": {
    "id": "809635a6-a2c7-4d09-8d60-ababd1815003",
    "trusted": true,
    "execution": {
     "iopub.status.busy": "2025-04-13T03:19:19.322329Z",
     "iopub.status.idle": "2025-04-13T03:19:19.322619Z",
     "shell.execute_reply.started": "2025-04-13T03:19:19.322457Z",
     "shell.execute_reply": "2025-04-13T03:19:19.322486Z"
    },
    "ExecuteTime": {
     "end_time": "2025-04-13T07:43:59.008319Z",
     "start_time": "2025-04-13T07:43:52.730334Z"
    }
   },
   "outputs": [
    {
     "name": "stderr",
     "output_type": "stream",
     "text": [
      "100%|██████████| 160/160 [00:06<00:00, 26.58it/s]"
     ]
    },
    {
     "name": "stdout",
     "output_type": "stream",
     "text": [
      "Final Evaluation Metric: {'accuracy': 0.91796875}\n"
     ]
    },
    {
     "name": "stderr",
     "output_type": "stream",
     "text": [
      "\n"
     ]
    }
   ],
   "execution_count": 22
  },
  {
   "id": "75f39087-f2bb-49d3-9fe1-0d812fb30203",
   "cell_type": "markdown",
   "source": "### Run Inference on unlabelled dataset",
   "metadata": {
    "id": "75f39087-f2bb-49d3-9fe1-0d812fb30203"
   }
  },
  {
   "id": "2af62541-2c33-4f16-bb1c-cc969c715cd7",
   "cell_type": "code",
   "source": [
    "#Load your unlabelled data\n",
    "unlabelled_dataset = pd.read_pickle(\"../../data/test_unlabelled.pkl\")\n",
    "test_dataset = unlabelled_dataset.map(preprocess, batched=True, remove_columns=[\"text\"])\n",
    "unlabelled_dataset"
   ],
   "metadata": {
    "id": "2af62541-2c33-4f16-bb1c-cc969c715cd7",
    "trusted": true,
    "execution": {
     "iopub.status.busy": "2025-04-13T03:19:19.323679Z",
     "iopub.status.idle": "2025-04-13T03:19:19.323915Z",
     "shell.execute_reply.started": "2025-04-13T03:19:19.323796Z",
     "shell.execute_reply": "2025-04-13T03:19:19.323809Z"
    },
    "ExecuteTime": {
     "end_time": "2025-04-13T07:45:03.512966Z",
     "start_time": "2025-04-13T07:45:00.496576Z"
    }
   },
   "outputs": [
    {
     "data": {
      "text/plain": [
       "Map:   0%|          | 0/8000 [00:00<?, ? examples/s]"
      ],
      "application/vnd.jupyter.widget-view+json": {
       "version_major": 2,
       "version_minor": 0,
       "model_id": "f73a02e4dcf445b6885df46bffb34799"
      }
     },
     "metadata": {},
     "output_type": "display_data"
    },
    {
     "data": {
      "text/plain": [
       "Dataset({\n",
       "    features: ['text'],\n",
       "    num_rows: 8000\n",
       "})"
      ]
     },
     "execution_count": 25,
     "metadata": {},
     "output_type": "execute_result"
    }
   ],
   "execution_count": 25
  },
  {
   "id": "e60991d3-38b1-4657-8854-408ce66f6b84",
   "cell_type": "code",
   "source": "# Run inference and save predictions\npreds = evaluate_model(peft_model, test_dataset, False, 8, data_collator)\ndf_output = pd.DataFrame({\n    'ID': range(len(preds)),\n    'Label': preds.numpy()  # or preds.tolist()\n})\ndf_output.to_csv(os.path.join(output_dir,\"test_output.csv\"), index=False)\nprint(\"Inference complete. Predictions saved to inference_output.csv\")",
   "metadata": {
    "id": "e60991d3-38b1-4657-8854-408ce66f6b84",
    "trusted": true,
    "execution": {
     "iopub.status.busy": "2025-04-13T03:19:19.325349Z",
     "iopub.status.idle": "2025-04-13T03:19:19.325616Z",
     "shell.execute_reply.started": "2025-04-13T03:19:19.325499Z",
     "shell.execute_reply": "2025-04-13T03:19:19.325514Z"
    },
    "ExecuteTime": {
     "end_time": "2025-04-13T07:45:33.966877Z",
     "start_time": "2025-04-13T07:45:07.081932Z"
    }
   },
   "outputs": [
    {
     "name": "stderr",
     "output_type": "stream",
     "text": [
      "100%|██████████| 1000/1000 [00:26<00:00, 37.22it/s]"
     ]
    },
    {
     "name": "stdout",
     "output_type": "stream",
     "text": [
      "Inference complete. Predictions saved to inference_output.csv\n"
     ]
    },
    {
     "name": "stderr",
     "output_type": "stream",
     "text": [
      "\n"
     ]
    }
   ],
   "execution_count": 26
  }
 ]
}
